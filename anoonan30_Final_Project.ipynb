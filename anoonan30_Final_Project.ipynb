{
 "cells": [
  {
   "cell_type": "code",
   "execution_count": 20,
   "id": "635e8e82",
   "metadata": {},
   "outputs": [],
   "source": [
    "# For my final project, I chose the dataset, Drug consumption (quantified) Data Set, which can be viewed and accessed via this link: https://archive.ics.uci.edu/ml/datasets/Drug+consumption+%28quantified%29#\n",
    "# I would say, loosely, this dataset belongs to the regulated domain of education as it contains level of education as an attribute within the dataset"
   ]
  },
  {
   "cell_type": "code",
   "execution_count": 266,
   "id": "36b38be3",
   "metadata": {},
   "outputs": [],
   "source": [
    "import pandas as pd\n",
    "import matplotlib as mpl\n",
    "import matplotlib.pyplot as plt\n",
    "import numpy \n",
    "from numpy import percentile\n",
    "from numpy.random import rand\n",
    "from aif360.metrics import BinaryLabelDatasetMetric\n",
    "from aif360.algorithms.preprocessing import Reweighing\n",
    "import aif360\n",
    "from aif360.algorithms.preprocessing import DisparateImpactRemover\n",
    "from sklearn.model_selection import train_test_split\n",
    "from sklearn.linear_model import LogisticRegression\n",
    "from sklearn.preprocessing import StandardScaler\n",
    "from sklearn import metrics"
   ]
  },
  {
   "cell_type": "code",
   "execution_count": 267,
   "id": "cfb979b4",
   "metadata": {},
   "outputs": [],
   "source": [
    "# df = pd.read_csv('Downloads/drug_consumption.data', header=None, delimiter=', ')\n",
    "df = pd.read_csv('drug_consumption.data')"
   ]
  },
  {
   "cell_type": "code",
   "execution_count": 268,
   "id": "fed2b2f1",
   "metadata": {},
   "outputs": [],
   "source": [
    "# df.columns\n",
    "df.columns = [\n",
    "    'ID', 'age', 'gender', 'education', 'country', 'ethnicity', \n",
    "    'nscore', 'escore', 'oscore', 'ascore', 'cscore', \n",
    "    'impulsive', 'ss', 'alcohol', 'amphet', 'amyl', 'benzos', 'caff', 'cannabis', 'choc','coke','crack','ecstasy','heroin','ketamine','legalh','lsd','meth','mushrooms','nicotine','semer','vsa'\n",
    "]"
   ]
  },
  {
   "cell_type": "code",
   "execution_count": 269,
   "id": "4cb5d826",
   "metadata": {},
   "outputs": [
    {
     "name": "stdout",
     "output_type": "stream",
     "text": [
      "There are 1884 observations in the dataset\n",
      "There are 31 variables in the dataset\n",
      "I selected heroin and cannabis as dependent variables.\n",
      "The following variables are associated with legally recognized protected classes and their associated legal precedence/law\n"
     ]
    },
    {
     "data": {
      "text/html": [
       "<div>\n",
       "<style scoped>\n",
       "    .dataframe tbody tr th:only-of-type {\n",
       "        vertical-align: middle;\n",
       "    }\n",
       "\n",
       "    .dataframe tbody tr th {\n",
       "        vertical-align: top;\n",
       "    }\n",
       "\n",
       "    .dataframe thead th {\n",
       "        text-align: right;\n",
       "    }\n",
       "</style>\n",
       "<table border=\"1\" class=\"dataframe\">\n",
       "  <thead>\n",
       "    <tr style=\"text-align: right;\">\n",
       "      <th></th>\n",
       "      <th>Column Name in Dataset</th>\n",
       "      <th>Protected Class</th>\n",
       "      <th>Law</th>\n",
       "    </tr>\n",
       "  </thead>\n",
       "  <tbody>\n",
       "    <tr>\n",
       "      <th>0</th>\n",
       "      <td>age</td>\n",
       "      <td>age</td>\n",
       "      <td>Age Discrimination in Employment Act of 1967</td>\n",
       "    </tr>\n",
       "    <tr>\n",
       "      <th>1</th>\n",
       "      <td>gender</td>\n",
       "      <td>sex</td>\n",
       "      <td>Equal Pay Act of 1963; Civil Rights Act of 196...</td>\n",
       "    </tr>\n",
       "    <tr>\n",
       "      <th>2</th>\n",
       "      <td>country</td>\n",
       "      <td>national origin</td>\n",
       "      <td>Civil Rights Act of 1964, 1991</td>\n",
       "    </tr>\n",
       "    <tr>\n",
       "      <th>3</th>\n",
       "      <td>ethnicity</td>\n",
       "      <td>race</td>\n",
       "      <td>Civil Rights Act of 1964, 1991</td>\n",
       "    </tr>\n",
       "  </tbody>\n",
       "</table>\n",
       "</div>"
      ],
      "text/plain": [
       "  Column Name in Dataset  Protected Class  \\\n",
       "0                    age              age   \n",
       "1                 gender              sex   \n",
       "2                country  national origin   \n",
       "3              ethnicity             race   \n",
       "\n",
       "                                                 Law  \n",
       "0       Age Discrimination in Employment Act of 1967  \n",
       "1  Equal Pay Act of 1963; Civil Rights Act of 196...  \n",
       "2                     Civil Rights Act of 1964, 1991  \n",
       "3                     Civil Rights Act of 1964, 1991  "
      ]
     },
     "execution_count": 269,
     "metadata": {},
     "output_type": "execute_result"
    }
   ],
   "source": [
    "print('There are ' + str(df.ID.count()) + ' observations in the dataset')\n",
    "print('There are ' + str(len(df.columns) - 1) + ' variables in the dataset')\n",
    "print('I selected heroin and cannabis as dependent variables.')\n",
    "print('The following variables are associated with legally recognized protected classes and their associated legal precedence/law')\n",
    "\n",
    "dict = {\n",
    "    'Column Name in Dataset': ['age', 'gender', 'country', 'ethnicity'],\n",
    "    'Protected Class': ['age', 'sex', 'national origin', 'race'],\n",
    "    'Law': ['Age Discrimination in Employment Act of 1967', 'Equal Pay Act of 1963; Civil Rights Act of 1964, 1991', 'Civil Rights Act of 1964, 1991', 'Civil Rights Act of 1964, 1991']\n",
    "}\n",
    "\n",
    "pd.DataFrame(dict)"
   ]
  },
  {
   "cell_type": "code",
   "execution_count": 270,
   "id": "e38512f6",
   "metadata": {},
   "outputs": [
    {
     "name": "stderr",
     "output_type": "stream",
     "text": [
      "Matplotlib is currently using agg, which is a non-GUI backend, so cannot show the figure.\n"
     ]
    },
    {
     "data": {
      "text/html": [
       "<div>\n",
       "<style scoped>\n",
       "    .dataframe tbody tr th:only-of-type {\n",
       "        vertical-align: middle;\n",
       "    }\n",
       "\n",
       "    .dataframe tbody tr th {\n",
       "        vertical-align: top;\n",
       "    }\n",
       "\n",
       "    .dataframe thead th {\n",
       "        text-align: right;\n",
       "    }\n",
       "</style>\n",
       "<table border=\"1\" class=\"dataframe\">\n",
       "  <thead>\n",
       "    <tr style=\"text-align: right;\">\n",
       "      <th></th>\n",
       "      <th>Value</th>\n",
       "      <th>Description</th>\n",
       "    </tr>\n",
       "  </thead>\n",
       "  <tbody>\n",
       "    <tr>\n",
       "      <th>0</th>\n",
       "      <td>-0.95197</td>\n",
       "      <td>18 - 24</td>\n",
       "    </tr>\n",
       "    <tr>\n",
       "      <th>1</th>\n",
       "      <td>-0.07854</td>\n",
       "      <td>25 - 34</td>\n",
       "    </tr>\n",
       "    <tr>\n",
       "      <th>2</th>\n",
       "      <td>0.49788</td>\n",
       "      <td>35 - 44</td>\n",
       "    </tr>\n",
       "    <tr>\n",
       "      <th>3</th>\n",
       "      <td>1.09449</td>\n",
       "      <td>45 - 54</td>\n",
       "    </tr>\n",
       "    <tr>\n",
       "      <th>4</th>\n",
       "      <td>1.82213</td>\n",
       "      <td>55 - 64</td>\n",
       "    </tr>\n",
       "    <tr>\n",
       "      <th>5</th>\n",
       "      <td>2.59171</td>\n",
       "      <td>65+</td>\n",
       "    </tr>\n",
       "  </tbody>\n",
       "</table>\n",
       "</div>"
      ],
      "text/plain": [
       "     Value Description\n",
       "0 -0.95197     18 - 24\n",
       "1 -0.07854     25 - 34\n",
       "2  0.49788     35 - 44\n",
       "3  1.09449     45 - 54\n",
       "4  1.82213     55 - 64\n",
       "5  2.59171         65+"
      ]
     },
     "execution_count": 270,
     "metadata": {},
     "output_type": "execute_result"
    },
    {
     "data": {
      "image/png": "[encoded data removed]",
      "text/plain": [
       "<Figure size 432x288 with 1 Axes>"
      ]
     },
     "metadata": {
      "needs_background": "light"
     },
     "output_type": "display_data"
    }
   ],
   "source": [
    "age_label = []\n",
    "for age in df.age:\n",
    "    if (age == -0.95197):\n",
    "        age_label.append('18 - 24')\n",
    "    elif(age == -0.07854):\n",
    "        age_label.append('25 - 34')\n",
    "    elif(age == 0.49788):\n",
    "        age_label.append('35 - 44')\n",
    "    elif(age == 1.09449):\n",
    "        age_label.append('45 - 54')\n",
    "    elif(age == 1.82213):\n",
    "        age_label.append('55 - 64')\n",
    "    elif(age == 2.59171):\n",
    "        age_label.append('65+')\n",
    "\n",
    "df['age_label'] = age_label\n",
    "ages = df.age_label.unique()\n",
    "plt.ylabel('Count')\n",
    "plt.title('Age')\n",
    "df.groupby('age_label').ID.count().plot(kind='bar')\n",
    "plt.show()\n",
    "\n",
    "dict = {\n",
    "    'Value': [-0.95197, -0.07854, 0.49788, 1.09449, 1.82213, 2.59171],\n",
    "    'Description': ['18 - 24', '25 - 34', '35 - 44','45 - 54','55 - 64','65+']\n",
    "}\n",
    "\n",
    "pd.DataFrame(dict)"
   ]
  },
  {
   "cell_type": "code",
   "execution_count": 271,
   "id": "10a286f7",
   "metadata": {},
   "outputs": [
    {
     "name": "stdout",
     "output_type": "stream",
     "text": [
      "Frequency of ages\n"
     ]
    },
    {
     "data": {
      "text/html": [
       "<div>\n",
       "<style scoped>\n",
       "    .dataframe tbody tr th:only-of-type {\n",
       "        vertical-align: middle;\n",
       "    }\n",
       "\n",
       "    .dataframe tbody tr th {\n",
       "        vertical-align: top;\n",
       "    }\n",
       "\n",
       "    .dataframe thead th {\n",
       "        text-align: right;\n",
       "    }\n",
       "</style>\n",
       "<table border=\"1\" class=\"dataframe\">\n",
       "  <thead>\n",
       "    <tr style=\"text-align: right;\">\n",
       "      <th></th>\n",
       "      <th>Age</th>\n",
       "      <th>Frequency</th>\n",
       "    </tr>\n",
       "  </thead>\n",
       "  <tbody>\n",
       "    <tr>\n",
       "      <th>0</th>\n",
       "      <td>18 - 24</td>\n",
       "      <td>643</td>\n",
       "    </tr>\n",
       "    <tr>\n",
       "      <th>1</th>\n",
       "      <td>25 - 34</td>\n",
       "      <td>481</td>\n",
       "    </tr>\n",
       "    <tr>\n",
       "      <th>2</th>\n",
       "      <td>35 - 44</td>\n",
       "      <td>355</td>\n",
       "    </tr>\n",
       "    <tr>\n",
       "      <th>3</th>\n",
       "      <td>45 - 54</td>\n",
       "      <td>294</td>\n",
       "    </tr>\n",
       "    <tr>\n",
       "      <th>4</th>\n",
       "      <td>55 - 64</td>\n",
       "      <td>93</td>\n",
       "    </tr>\n",
       "    <tr>\n",
       "      <th>5</th>\n",
       "      <td>65+</td>\n",
       "      <td>18</td>\n",
       "    </tr>\n",
       "  </tbody>\n",
       "</table>\n",
       "</div>"
      ],
      "text/plain": [
       "       Age  Frequency\n",
       "0  18 - 24        643\n",
       "1  25 - 34        481\n",
       "2  35 - 44        355\n",
       "3  45 - 54        294\n",
       "4  55 - 64         93\n",
       "5      65+         18"
      ]
     },
     "execution_count": 271,
     "metadata": {},
     "output_type": "execute_result"
    }
   ],
   "source": [
    "print('Frequency of ages')\n",
    "dict = {\n",
    "    'Age': ['18 - 24', '25 - 34', '35 - 44','45 - 54','55 - 64','65+'],\n",
    "    'Frequency': [\n",
    "        df[df.age_label == '18 - 24'].ID.count(),\n",
    "        df[df.age_label == '25 - 34'].ID.count(),\n",
    "        df[df.age_label == '35 - 44'].ID.count(),\n",
    "        df[df.age_label == '45 - 54'].ID.count(),\n",
    "        df[df.age_label == '55 - 64'].ID.count(),\n",
    "        df[df.age_label == '65+'].ID.count()\n",
    "    ],\n",
    "}\n",
    "pd.DataFrame(dict)"
   ]
  },
  {
   "cell_type": "code",
   "execution_count": 272,
   "id": "7ff99ed9",
   "metadata": {},
   "outputs": [
    {
     "name": "stderr",
     "output_type": "stream",
     "text": [
      "Matplotlib is currently using agg, which is a non-GUI backend, so cannot show the figure.\n"
     ]
    },
    {
     "data": {
      "text/html": [
       "<div>\n",
       "<style scoped>\n",
       "    .dataframe tbody tr th:only-of-type {\n",
       "        vertical-align: middle;\n",
       "    }\n",
       "\n",
       "    .dataframe tbody tr th {\n",
       "        vertical-align: top;\n",
       "    }\n",
       "\n",
       "    .dataframe thead th {\n",
       "        text-align: right;\n",
       "    }\n",
       "</style>\n",
       "<table border=\"1\" class=\"dataframe\">\n",
       "  <thead>\n",
       "    <tr style=\"text-align: right;\">\n",
       "      <th></th>\n",
       "      <th>Value</th>\n",
       "      <th>Description</th>\n",
       "    </tr>\n",
       "  </thead>\n",
       "  <tbody>\n",
       "    <tr>\n",
       "      <th>0</th>\n",
       "      <td>0.48246</td>\n",
       "      <td>female</td>\n",
       "    </tr>\n",
       "    <tr>\n",
       "      <th>1</th>\n",
       "      <td>-0.48246</td>\n",
       "      <td>male</td>\n",
       "    </tr>\n",
       "  </tbody>\n",
       "</table>\n",
       "</div>"
      ],
      "text/plain": [
       "     Value Description\n",
       "0  0.48246      female\n",
       "1 -0.48246        male"
      ]
     },
     "execution_count": 272,
     "metadata": {},
     "output_type": "execute_result"
    },
    {
     "data": {
      "image/png": "[encoded data removed]",
      "text/plain": [
       "<Figure size 432x288 with 1 Axes>"
      ]
     },
     "metadata": {
      "needs_background": "light"
     },
     "output_type": "display_data"
    }
   ],
   "source": [
    "gender_label = []\n",
    "for gender in df.gender:\n",
    "    if (gender == 0.48246):\n",
    "        gender_label.append('female')\n",
    "    elif(gender == -0.48246):\n",
    "        gender_label.append('male')\n",
    "\n",
    "df['gender_label'] = gender_label\n",
    "genders = df.gender_label.unique()\n",
    "plt.ylabel('Count')\n",
    "plt.title('Gender')\n",
    "df.groupby('gender_label').ID.count().plot(kind='bar')\n",
    "plt.show()\n",
    "\n",
    "dict = {\n",
    "    'Value': [0.48246, -0.48246],\n",
    "    'Description': ['female', 'male']\n",
    "}\n",
    "\n",
    "pd.DataFrame(dict)"
   ]
  },
  {
   "cell_type": "code",
   "execution_count": 273,
   "id": "5cfea6c2",
   "metadata": {},
   "outputs": [
    {
     "name": "stdout",
     "output_type": "stream",
     "text": [
      "Frequency of gender\n"
     ]
    },
    {
     "data": {
      "text/html": [
       "<div>\n",
       "<style scoped>\n",
       "    .dataframe tbody tr th:only-of-type {\n",
       "        vertical-align: middle;\n",
       "    }\n",
       "\n",
       "    .dataframe tbody tr th {\n",
       "        vertical-align: top;\n",
       "    }\n",
       "\n",
       "    .dataframe thead th {\n",
       "        text-align: right;\n",
       "    }\n",
       "</style>\n",
       "<table border=\"1\" class=\"dataframe\">\n",
       "  <thead>\n",
       "    <tr style=\"text-align: right;\">\n",
       "      <th></th>\n",
       "      <th>Gender</th>\n",
       "      <th>Frequency</th>\n",
       "    </tr>\n",
       "  </thead>\n",
       "  <tbody>\n",
       "    <tr>\n",
       "      <th>0</th>\n",
       "      <td>female</td>\n",
       "      <td>941</td>\n",
       "    </tr>\n",
       "    <tr>\n",
       "      <th>1</th>\n",
       "      <td>male</td>\n",
       "      <td>943</td>\n",
       "    </tr>\n",
       "  </tbody>\n",
       "</table>\n",
       "</div>"
      ],
      "text/plain": [
       "   Gender  Frequency\n",
       "0  female        941\n",
       "1    male        943"
      ]
     },
     "execution_count": 273,
     "metadata": {},
     "output_type": "execute_result"
    }
   ],
   "source": [
    "\n",
    "print('Frequency of gender')\n",
    "dict = {\n",
    "    'Gender': ['female', 'male'],\n",
    "    'Frequency': [\n",
    "        df[df.gender_label == 'female'].ID.count(),\n",
    "        df[df.gender_label == 'male'].ID.count()\n",
    "    ],\n",
    "}\n",
    "pd.DataFrame(dict)"
   ]
  },
  {
   "cell_type": "code",
   "execution_count": 274,
   "id": "6a21e365",
   "metadata": {},
   "outputs": [
    {
     "name": "stderr",
     "output_type": "stream",
     "text": [
      "Matplotlib is currently using agg, which is a non-GUI backend, so cannot show the figure.\n"
     ]
    },
    {
     "data": {
      "text/html": [
       "<div>\n",
       "<style scoped>\n",
       "    .dataframe tbody tr th:only-of-type {\n",
       "        vertical-align: middle;\n",
       "    }\n",
       "\n",
       "    .dataframe tbody tr th {\n",
       "        vertical-align: top;\n",
       "    }\n",
       "\n",
       "    .dataframe thead th {\n",
       "        text-align: right;\n",
       "    }\n",
       "</style>\n",
       "<table border=\"1\" class=\"dataframe\">\n",
       "  <thead>\n",
       "    <tr style=\"text-align: right;\">\n",
       "      <th></th>\n",
       "      <th>Value</th>\n",
       "      <th>Description</th>\n",
       "    </tr>\n",
       "  </thead>\n",
       "  <tbody>\n",
       "    <tr>\n",
       "      <th>0</th>\n",
       "      <td>-0.09765</td>\n",
       "      <td>Australia</td>\n",
       "    </tr>\n",
       "    <tr>\n",
       "      <th>1</th>\n",
       "      <td>0.24923</td>\n",
       "      <td>Canada</td>\n",
       "    </tr>\n",
       "    <tr>\n",
       "      <th>2</th>\n",
       "      <td>-0.46841</td>\n",
       "      <td>New Zealand</td>\n",
       "    </tr>\n",
       "    <tr>\n",
       "      <th>3</th>\n",
       "      <td>-0.28519</td>\n",
       "      <td>Other</td>\n",
       "    </tr>\n",
       "    <tr>\n",
       "      <th>4</th>\n",
       "      <td>0.21128</td>\n",
       "      <td>Republic of Ireland</td>\n",
       "    </tr>\n",
       "    <tr>\n",
       "      <th>5</th>\n",
       "      <td>0.96082</td>\n",
       "      <td>UK</td>\n",
       "    </tr>\n",
       "    <tr>\n",
       "      <th>6</th>\n",
       "      <td>-0.57009</td>\n",
       "      <td>USA</td>\n",
       "    </tr>\n",
       "  </tbody>\n",
       "</table>\n",
       "</div>"
      ],
      "text/plain": [
       "     Value          Description\n",
       "0 -0.09765            Australia\n",
       "1  0.24923               Canada\n",
       "2 -0.46841          New Zealand\n",
       "3 -0.28519                Other\n",
       "4  0.21128  Republic of Ireland\n",
       "5  0.96082                   UK\n",
       "6 -0.57009                  USA"
      ]
     },
     "execution_count": 274,
     "metadata": {},
     "output_type": "execute_result"
    },
    {
     "data": {
      "image/png": "[encoded data removed]",
      "text/plain": [
       "<Figure size 432x288 with 1 Axes>"
      ]
     },
     "metadata": {
      "needs_background": "light"
     },
     "output_type": "display_data"
    }
   ],
   "source": [
    "country_label = []\n",
    "for country in df.country:\n",
    "    if (country == -0.09765):\n",
    "        country_label.append('Australia')\n",
    "    elif(country == 0.24923):\n",
    "        country_label.append('Canada')\n",
    "    elif(country == -0.46841):\n",
    "        country_label.append('New Zealand')\n",
    "    elif(country == -0.28519):\n",
    "        country_label.append('Other')\n",
    "    elif(country == 0.21128):\n",
    "        country_label.append('Republic of Ireland')\n",
    "    elif(country == 0.96082):\n",
    "        country_label.append('UK')\n",
    "    elif(country == -0.57009):\n",
    "        country_label.append('USA')\n",
    "\n",
    "df['country_label'] = country_label\n",
    "country = df.country_label.unique()\n",
    "plt.ylabel('Count')\n",
    "plt.title('Country')\n",
    "df.groupby('country_label').ID.count().plot(kind='bar')\n",
    "plt.show()\n",
    "\n",
    "dict = {\n",
    "    'Value': [-0.09765, 0.24923, -0.46841, -0.28519, 0.21128, 0.96082, -0.57009],\n",
    "    'Description': ['Australia', 'Canada', 'New Zealand','Other','Republic of Ireland','UK', 'USA']\n",
    "}\n",
    "\n",
    "pd.DataFrame(dict)"
   ]
  },
  {
   "cell_type": "code",
   "execution_count": 275,
   "id": "28e39475",
   "metadata": {},
   "outputs": [
    {
     "name": "stdout",
     "output_type": "stream",
     "text": [
      "Frequency of country\n"
     ]
    },
    {
     "data": {
      "text/html": [
       "<div>\n",
       "<style scoped>\n",
       "    .dataframe tbody tr th:only-of-type {\n",
       "        vertical-align: middle;\n",
       "    }\n",
       "\n",
       "    .dataframe tbody tr th {\n",
       "        vertical-align: top;\n",
       "    }\n",
       "\n",
       "    .dataframe thead th {\n",
       "        text-align: right;\n",
       "    }\n",
       "</style>\n",
       "<table border=\"1\" class=\"dataframe\">\n",
       "  <thead>\n",
       "    <tr style=\"text-align: right;\">\n",
       "      <th></th>\n",
       "      <th>Country</th>\n",
       "      <th>Frequency</th>\n",
       "    </tr>\n",
       "  </thead>\n",
       "  <tbody>\n",
       "    <tr>\n",
       "      <th>0</th>\n",
       "      <td>Australia</td>\n",
       "      <td>54</td>\n",
       "    </tr>\n",
       "    <tr>\n",
       "      <th>1</th>\n",
       "      <td>Canada</td>\n",
       "      <td>87</td>\n",
       "    </tr>\n",
       "    <tr>\n",
       "      <th>2</th>\n",
       "      <td>New Zealand</td>\n",
       "      <td>5</td>\n",
       "    </tr>\n",
       "    <tr>\n",
       "      <th>3</th>\n",
       "      <td>Other</td>\n",
       "      <td>118</td>\n",
       "    </tr>\n",
       "    <tr>\n",
       "      <th>4</th>\n",
       "      <td>Republic of Ireland</td>\n",
       "      <td>20</td>\n",
       "    </tr>\n",
       "    <tr>\n",
       "      <th>5</th>\n",
       "      <td>UK</td>\n",
       "      <td>1043</td>\n",
       "    </tr>\n",
       "    <tr>\n",
       "      <th>6</th>\n",
       "      <td>USA</td>\n",
       "      <td>557</td>\n",
       "    </tr>\n",
       "  </tbody>\n",
       "</table>\n",
       "</div>"
      ],
      "text/plain": [
       "               Country  Frequency\n",
       "0            Australia         54\n",
       "1               Canada         87\n",
       "2          New Zealand          5\n",
       "3                Other        118\n",
       "4  Republic of Ireland         20\n",
       "5                   UK       1043\n",
       "6                  USA        557"
      ]
     },
     "execution_count": 275,
     "metadata": {},
     "output_type": "execute_result"
    }
   ],
   "source": [
    "print('Frequency of country')\n",
    "dict = {\n",
    "    'Country': ['Australia', 'Canada', 'New Zealand','Other','Republic of Ireland','UK', 'USA'],\n",
    "    'Frequency': [\n",
    "        df[df.country_label == 'Australia'].ID.count(),\n",
    "        df[df.country_label == 'Canada'].ID.count(),\n",
    "        df[df.country_label == 'New Zealand'].ID.count(),\n",
    "        df[df.country_label == 'Other'].ID.count(),\n",
    "        df[df.country_label == 'Republic of Ireland'].ID.count(),\n",
    "        df[df.country_label == 'UK'].ID.count(),\n",
    "        df[df.country_label == 'USA'].ID.count(),\n",
    "    ],\n",
    "}\n",
    "\n",
    "pd.DataFrame(dict)"
   ]
  },
  {
   "cell_type": "code",
   "execution_count": 276,
   "id": "4df85a14",
   "metadata": {},
   "outputs": [
    {
     "name": "stderr",
     "output_type": "stream",
     "text": [
      "Matplotlib is currently using agg, which is a non-GUI backend, so cannot show the figure.\n"
     ]
    },
    {
     "data": {
      "text/html": [
       "<div>\n",
       "<style scoped>\n",
       "    .dataframe tbody tr th:only-of-type {\n",
       "        vertical-align: middle;\n",
       "    }\n",
       "\n",
       "    .dataframe tbody tr th {\n",
       "        vertical-align: top;\n",
       "    }\n",
       "\n",
       "    .dataframe thead th {\n",
       "        text-align: right;\n",
       "    }\n",
       "</style>\n",
       "<table border=\"1\" class=\"dataframe\">\n",
       "  <thead>\n",
       "    <tr style=\"text-align: right;\">\n",
       "      <th></th>\n",
       "      <th>Value</th>\n",
       "      <th>Description</th>\n",
       "    </tr>\n",
       "  </thead>\n",
       "  <tbody>\n",
       "    <tr>\n",
       "      <th>0</th>\n",
       "      <td>-0.50212</td>\n",
       "      <td>Asian</td>\n",
       "    </tr>\n",
       "    <tr>\n",
       "      <th>1</th>\n",
       "      <td>-1.10702</td>\n",
       "      <td>Black</td>\n",
       "    </tr>\n",
       "    <tr>\n",
       "      <th>2</th>\n",
       "      <td>1.90725</td>\n",
       "      <td>Mixed-Black/Asian</td>\n",
       "    </tr>\n",
       "    <tr>\n",
       "      <th>3</th>\n",
       "      <td>0.12600</td>\n",
       "      <td>Mixed-White/Asian</td>\n",
       "    </tr>\n",
       "    <tr>\n",
       "      <th>4</th>\n",
       "      <td>-0.22166</td>\n",
       "      <td>Mixed-White/Black</td>\n",
       "    </tr>\n",
       "    <tr>\n",
       "      <th>5</th>\n",
       "      <td>0.11440</td>\n",
       "      <td>Other</td>\n",
       "    </tr>\n",
       "    <tr>\n",
       "      <th>6</th>\n",
       "      <td>-0.31685</td>\n",
       "      <td>White</td>\n",
       "    </tr>\n",
       "  </tbody>\n",
       "</table>\n",
       "</div>"
      ],
      "text/plain": [
       "     Value        Description\n",
       "0 -0.50212              Asian\n",
       "1 -1.10702              Black\n",
       "2  1.90725  Mixed-Black/Asian\n",
       "3  0.12600  Mixed-White/Asian\n",
       "4 -0.22166  Mixed-White/Black\n",
       "5  0.11440              Other\n",
       "6 -0.31685              White"
      ]
     },
     "execution_count": 276,
     "metadata": {},
     "output_type": "execute_result"
    },
    {
     "data": {
      "image/png": "[encoded data removed]",
      "text/plain": [
       "<Figure size 432x288 with 1 Axes>"
      ]
     },
     "metadata": {
      "needs_background": "light"
     },
     "output_type": "display_data"
    }
   ],
   "source": [
    "ethnicity_label = []\n",
    "for ethnicity in df.ethnicity:\n",
    "    if (ethnicity == -0.50212):\n",
    "        ethnicity_label.append('Asian')\n",
    "    elif(ethnicity == -1.10702):\n",
    "        ethnicity_label.append('Black')\n",
    "    elif(ethnicity == 1.90725 ):\n",
    "        ethnicity_label.append('Mixed-Black/Asian')\n",
    "    elif(ethnicity == 0.12600):\n",
    "        ethnicity_label.append('Mixed-White/Asian')\n",
    "    elif(ethnicity == -0.22166):\n",
    "        ethnicity_label.append('Mixed-White/Black')\n",
    "    elif(ethnicity == 0.11440):\n",
    "        ethnicity_label.append('Other')\n",
    "    elif(ethnicity == -0.31685):\n",
    "        ethnicity_label.append('White')\n",
    "\n",
    "df['ethnicity_label'] = ethnicity_label\n",
    "ethnicity = df.ethnicity_label.unique()\n",
    "plt.ylabel('Count')\n",
    "plt.title('ethnicity')\n",
    "df.groupby('ethnicity_label').ID.count().plot(kind='bar')\n",
    "plt.show()\n",
    "\n",
    "dict = {\n",
    "    'Value': [-0.50212, -1.10702, 1.90725, 0.12600, -0.22166, 0.11440, -0.31685],\n",
    "    'Description': ['Asian', 'Black', 'Mixed-Black/Asian','Mixed-White/Asian','Mixed-White/Black','Other', 'White']\n",
    "}\n",
    "\n",
    "pd.DataFrame(dict)"
   ]
  },
  {
   "cell_type": "code",
   "execution_count": 277,
   "id": "f99cb606",
   "metadata": {},
   "outputs": [
    {
     "name": "stdout",
     "output_type": "stream",
     "text": [
      "Frequency of ethnicity\n"
     ]
    },
    {
     "data": {
      "text/html": [
       "<div>\n",
       "<style scoped>\n",
       "    .dataframe tbody tr th:only-of-type {\n",
       "        vertical-align: middle;\n",
       "    }\n",
       "\n",
       "    .dataframe tbody tr th {\n",
       "        vertical-align: top;\n",
       "    }\n",
       "\n",
       "    .dataframe thead th {\n",
       "        text-align: right;\n",
       "    }\n",
       "</style>\n",
       "<table border=\"1\" class=\"dataframe\">\n",
       "  <thead>\n",
       "    <tr style=\"text-align: right;\">\n",
       "      <th></th>\n",
       "      <th>Ethnicity</th>\n",
       "      <th>Frequency</th>\n",
       "    </tr>\n",
       "  </thead>\n",
       "  <tbody>\n",
       "    <tr>\n",
       "      <th>0</th>\n",
       "      <td>Asian</td>\n",
       "      <td>26</td>\n",
       "    </tr>\n",
       "    <tr>\n",
       "      <th>1</th>\n",
       "      <td>Black</td>\n",
       "      <td>33</td>\n",
       "    </tr>\n",
       "    <tr>\n",
       "      <th>2</th>\n",
       "      <td>Mixed-Black/Asian</td>\n",
       "      <td>3</td>\n",
       "    </tr>\n",
       "    <tr>\n",
       "      <th>3</th>\n",
       "      <td>Mixed-White/Asian</td>\n",
       "      <td>19</td>\n",
       "    </tr>\n",
       "    <tr>\n",
       "      <th>4</th>\n",
       "      <td>Mixed-White/Black</td>\n",
       "      <td>20</td>\n",
       "    </tr>\n",
       "    <tr>\n",
       "      <th>5</th>\n",
       "      <td>Other</td>\n",
       "      <td>63</td>\n",
       "    </tr>\n",
       "    <tr>\n",
       "      <th>6</th>\n",
       "      <td>White</td>\n",
       "      <td>1720</td>\n",
       "    </tr>\n",
       "  </tbody>\n",
       "</table>\n",
       "</div>"
      ],
      "text/plain": [
       "           Ethnicity  Frequency\n",
       "0              Asian         26\n",
       "1              Black         33\n",
       "2  Mixed-Black/Asian          3\n",
       "3  Mixed-White/Asian         19\n",
       "4  Mixed-White/Black         20\n",
       "5              Other         63\n",
       "6              White       1720"
      ]
     },
     "execution_count": 277,
     "metadata": {},
     "output_type": "execute_result"
    }
   ],
   "source": [
    "print('Frequency of ethnicity')\n",
    "dict = {\n",
    "    'Ethnicity': ['Asian', 'Black', 'Mixed-Black/Asian','Mixed-White/Asian','Mixed-White/Black','Other', 'White'],\n",
    "    'Frequency': [\n",
    "        df[df.ethnicity_label == 'Asian'].ID.count(),\n",
    "        df[df.ethnicity_label == 'Black'].ID.count(),\n",
    "        df[df.ethnicity_label == 'Mixed-Black/Asian'].ID.count(),\n",
    "        df[df.ethnicity_label == 'Mixed-White/Asian'].ID.count(),\n",
    "        df[df.ethnicity_label == 'Mixed-White/Black'].ID.count(),\n",
    "        df[df.ethnicity_label == 'Other'].ID.count(),\n",
    "        df[df.ethnicity_label == 'White'].ID.count(),\n",
    "    ],\n",
    "}\n",
    "\n",
    "pd.DataFrame(dict)"
   ]
  },
  {
   "cell_type": "code",
   "execution_count": 278,
   "id": "e3019af5",
   "metadata": {},
   "outputs": [],
   "source": [
    "# Transform labels for cannabis and heroin columns\n",
    "heroin_label = []\n",
    "for heroin in df.heroin:\n",
    "    if(heroin == 'CL0'):\n",
    "        heroin_label.append('Never Used')\n",
    "    elif(heroin == 'CL1'):\n",
    "        heroin_label.append('Used over a Decade Ago')\n",
    "    elif(heroin == 'CL2'):\n",
    "        heroin_label.append('Used in Last Decade')\n",
    "    elif(heroin == 'CL3'):\n",
    "        heroin_label.append('Used in Last Year')\n",
    "    elif(heroin == 'CL4'):\n",
    "        heroin_label.append('Used in Last Month')\n",
    "    elif(heroin == 'CL5'):\n",
    "        heroin_label.append('Used in Last Week')\n",
    "    elif(heroin == 'CL6'):\n",
    "        heroin_label.append('Used in Last Day')\n",
    "        \n",
    "df['heroin_label'] = heroin_label\n",
    "\n",
    "cannabis_label = []\n",
    "for cannabis in df.cannabis:\n",
    "    if(cannabis == 'CL0'):\n",
    "        cannabis_label.append('Never Used')\n",
    "    elif(cannabis == 'CL1'):\n",
    "        cannabis_label.append('Used over a Decade Ago')\n",
    "    elif(cannabis == 'CL2'):\n",
    "        cannabis_label.append('Used in Last Decade')\n",
    "    elif(cannabis == 'CL3'):\n",
    "        cannabis_label.append('Used in Last Year')\n",
    "    elif(cannabis == 'CL4'):\n",
    "        cannabis_label.append('Used in Last Month')\n",
    "    elif(cannabis == 'CL5'):\n",
    "        cannabis_label.append('Used in Last Week')\n",
    "    elif(cannabis == 'CL6'):\n",
    "        cannabis_label.append('Used in Last Day')\n",
    "        \n",
    "df['cannabis_label'] = cannabis_label"
   ]
  },
  {
   "cell_type": "code",
   "execution_count": 279,
   "id": "a55af8cd",
   "metadata": {},
   "outputs": [
    {
     "name": "stdout",
     "output_type": "stream",
     "text": [
      "Heroin use by age\n"
     ]
    },
    {
     "data": {
      "text/html": [
       "<div>\n",
       "<style scoped>\n",
       "    .dataframe tbody tr th:only-of-type {\n",
       "        vertical-align: middle;\n",
       "    }\n",
       "\n",
       "    .dataframe tbody tr th {\n",
       "        vertical-align: top;\n",
       "    }\n",
       "\n",
       "    .dataframe thead th {\n",
       "        text-align: right;\n",
       "    }\n",
       "</style>\n",
       "<table border=\"1\" class=\"dataframe\">\n",
       "  <thead>\n",
       "    <tr style=\"text-align: right;\">\n",
       "      <th></th>\n",
       "      <th>Label</th>\n",
       "      <th>Description</th>\n",
       "    </tr>\n",
       "  </thead>\n",
       "  <tbody>\n",
       "    <tr>\n",
       "      <th>0</th>\n",
       "      <td>CL0</td>\n",
       "      <td>Never Used</td>\n",
       "    </tr>\n",
       "    <tr>\n",
       "      <th>1</th>\n",
       "      <td>CL1</td>\n",
       "      <td>Used over a Decade Ago</td>\n",
       "    </tr>\n",
       "    <tr>\n",
       "      <th>2</th>\n",
       "      <td>CL2</td>\n",
       "      <td>Used in Last Decade</td>\n",
       "    </tr>\n",
       "    <tr>\n",
       "      <th>3</th>\n",
       "      <td>CL3</td>\n",
       "      <td>Used in Last Year</td>\n",
       "    </tr>\n",
       "    <tr>\n",
       "      <th>4</th>\n",
       "      <td>CL4</td>\n",
       "      <td>Used in Last Month</td>\n",
       "    </tr>\n",
       "    <tr>\n",
       "      <th>5</th>\n",
       "      <td>CL5</td>\n",
       "      <td>Used in Last Week</td>\n",
       "    </tr>\n",
       "    <tr>\n",
       "      <th>6</th>\n",
       "      <td>CL6</td>\n",
       "      <td>Used in Last Day</td>\n",
       "    </tr>\n",
       "  </tbody>\n",
       "</table>\n",
       "</div>"
      ],
      "text/plain": [
       "  Label             Description\n",
       "0   CL0              Never Used\n",
       "1   CL1  Used over a Decade Ago\n",
       "2   CL2     Used in Last Decade\n",
       "3   CL3       Used in Last Year\n",
       "4   CL4      Used in Last Month\n",
       "5   CL5       Used in Last Week\n",
       "6   CL6        Used in Last Day"
      ]
     },
     "execution_count": 279,
     "metadata": {},
     "output_type": "execute_result"
    },
    {
     "data": {
      "image/png": "[encoded data removed]",
      "text/plain": [
       "<Figure size 432x288 with 6 Axes>"
      ]
     },
     "metadata": {
      "needs_background": "light"
     },
     "output_type": "display_data"
    }
   ],
   "source": [
    "print('Heroin use by age')\n",
    "df.hist(by='age_label', column='heroin')\n",
    "plt.tight_layout()\n",
    "\n",
    "dict = {\n",
    "    'Label': ['CL0', 'CL1', 'CL2','CL3','CL4','CL5','CL6'],\n",
    "    'Description': ['Never Used', 'Used over a Decade Ago','Used in Last Decade','Used in Last Year','Used in Last Month','Used in Last Week','Used in Last Day']\n",
    "}\n",
    "\n",
    "pd.DataFrame(dict)"
   ]
  },
  {
   "cell_type": "code",
   "execution_count": 280,
   "id": "4bbfedae",
   "metadata": {},
   "outputs": [
    {
     "name": "stdout",
     "output_type": "stream",
     "text": [
      "Heroin use by gender\n"
     ]
    },
    {
     "data": {
      "text/html": [
       "<div>\n",
       "<style scoped>\n",
       "    .dataframe tbody tr th:only-of-type {\n",
       "        vertical-align: middle;\n",
       "    }\n",
       "\n",
       "    .dataframe tbody tr th {\n",
       "        vertical-align: top;\n",
       "    }\n",
       "\n",
       "    .dataframe thead th {\n",
       "        text-align: right;\n",
       "    }\n",
       "</style>\n",
       "<table border=\"1\" class=\"dataframe\">\n",
       "  <thead>\n",
       "    <tr style=\"text-align: right;\">\n",
       "      <th></th>\n",
       "      <th>Label</th>\n",
       "      <th>Description</th>\n",
       "    </tr>\n",
       "  </thead>\n",
       "  <tbody>\n",
       "    <tr>\n",
       "      <th>0</th>\n",
       "      <td>CL0</td>\n",
       "      <td>Never Used</td>\n",
       "    </tr>\n",
       "    <tr>\n",
       "      <th>1</th>\n",
       "      <td>CL1</td>\n",
       "      <td>Used over a Decade Ago</td>\n",
       "    </tr>\n",
       "    <tr>\n",
       "      <th>2</th>\n",
       "      <td>CL2</td>\n",
       "      <td>Used in Last Decade</td>\n",
       "    </tr>\n",
       "    <tr>\n",
       "      <th>3</th>\n",
       "      <td>CL3</td>\n",
       "      <td>Used in Last Year</td>\n",
       "    </tr>\n",
       "    <tr>\n",
       "      <th>4</th>\n",
       "      <td>CL4</td>\n",
       "      <td>Used in Last Month</td>\n",
       "    </tr>\n",
       "    <tr>\n",
       "      <th>5</th>\n",
       "      <td>CL5</td>\n",
       "      <td>Used in Last Week</td>\n",
       "    </tr>\n",
       "    <tr>\n",
       "      <th>6</th>\n",
       "      <td>CL6</td>\n",
       "      <td>Used in Last Day</td>\n",
       "    </tr>\n",
       "  </tbody>\n",
       "</table>\n",
       "</div>"
      ],
      "text/plain": [
       "  Label             Description\n",
       "0   CL0              Never Used\n",
       "1   CL1  Used over a Decade Ago\n",
       "2   CL2     Used in Last Decade\n",
       "3   CL3       Used in Last Year\n",
       "4   CL4      Used in Last Month\n",
       "5   CL5       Used in Last Week\n",
       "6   CL6        Used in Last Day"
      ]
     },
     "execution_count": 280,
     "metadata": {},
     "output_type": "execute_result"
    },
    {
     "data": {
      "image/png": "[encoded data removed]",
      "text/plain": [
       "<Figure size 432x288 with 2 Axes>"
      ]
     },
     "metadata": {
      "needs_background": "light"
     },
     "output_type": "display_data"
    }
   ],
   "source": [
    "print('Heroin use by gender')\n",
    "df.hist(by='gender_label', column='heroin')\n",
    "plt.tight_layout()\n",
    "\n",
    "dict = {\n",
    "    'Label': ['CL0', 'CL1', 'CL2','CL3','CL4','CL5','CL6'],\n",
    "    'Description': ['Never Used', 'Used over a Decade Ago','Used in Last Decade','Used in Last Year','Used in Last Month','Used in Last Week','Used in Last Day']\n",
    "}\n",
    "\n",
    "pd.DataFrame(dict)"
   ]
  },
  {
   "cell_type": "code",
   "execution_count": 281,
   "id": "eb59371b",
   "metadata": {},
   "outputs": [
    {
     "name": "stdout",
     "output_type": "stream",
     "text": [
      "Heroin use by country\n"
     ]
    },
    {
     "data": {
      "text/html": [
       "<div>\n",
       "<style scoped>\n",
       "    .dataframe tbody tr th:only-of-type {\n",
       "        vertical-align: middle;\n",
       "    }\n",
       "\n",
       "    .dataframe tbody tr th {\n",
       "        vertical-align: top;\n",
       "    }\n",
       "\n",
       "    .dataframe thead th {\n",
       "        text-align: right;\n",
       "    }\n",
       "</style>\n",
       "<table border=\"1\" class=\"dataframe\">\n",
       "  <thead>\n",
       "    <tr style=\"text-align: right;\">\n",
       "      <th></th>\n",
       "      <th>Label</th>\n",
       "      <th>Description</th>\n",
       "    </tr>\n",
       "  </thead>\n",
       "  <tbody>\n",
       "    <tr>\n",
       "      <th>0</th>\n",
       "      <td>CL0</td>\n",
       "      <td>Never Used</td>\n",
       "    </tr>\n",
       "    <tr>\n",
       "      <th>1</th>\n",
       "      <td>CL1</td>\n",
       "      <td>Used over a Decade Ago</td>\n",
       "    </tr>\n",
       "    <tr>\n",
       "      <th>2</th>\n",
       "      <td>CL2</td>\n",
       "      <td>Used in Last Decade</td>\n",
       "    </tr>\n",
       "    <tr>\n",
       "      <th>3</th>\n",
       "      <td>CL3</td>\n",
       "      <td>Used in Last Year</td>\n",
       "    </tr>\n",
       "    <tr>\n",
       "      <th>4</th>\n",
       "      <td>CL4</td>\n",
       "      <td>Used in Last Month</td>\n",
       "    </tr>\n",
       "    <tr>\n",
       "      <th>5</th>\n",
       "      <td>CL5</td>\n",
       "      <td>Used in Last Week</td>\n",
       "    </tr>\n",
       "    <tr>\n",
       "      <th>6</th>\n",
       "      <td>CL6</td>\n",
       "      <td>Used in Last Day</td>\n",
       "    </tr>\n",
       "  </tbody>\n",
       "</table>\n",
       "</div>"
      ],
      "text/plain": [
       "  Label             Description\n",
       "0   CL0              Never Used\n",
       "1   CL1  Used over a Decade Ago\n",
       "2   CL2     Used in Last Decade\n",
       "3   CL3       Used in Last Year\n",
       "4   CL4      Used in Last Month\n",
       "5   CL5       Used in Last Week\n",
       "6   CL6        Used in Last Day"
      ]
     },
     "execution_count": 281,
     "metadata": {},
     "output_type": "execute_result"
    },
    {
     "data": {
      "image/png": "[encoded data removed]",
      "text/plain": [
       "<Figure size 432x288 with 9 Axes>"
      ]
     },
     "metadata": {
      "needs_background": "light"
     },
     "output_type": "display_data"
    }
   ],
   "source": [
    "print('Heroin use by country')\n",
    "df.hist(by='country_label', column='heroin')\n",
    "plt.tight_layout()\n",
    "\n",
    "dict = {\n",
    "    'Label': ['CL0', 'CL1', 'CL2','CL3','CL4','CL5','CL6'],\n",
    "    'Description': ['Never Used', 'Used over a Decade Ago','Used in Last Decade','Used in Last Year','Used in Last Month','Used in Last Week','Used in Last Day']\n",
    "}\n",
    "\n",
    "pd.DataFrame(dict)"
   ]
  },
  {
   "cell_type": "code",
   "execution_count": 282,
   "id": "f06d3ef6",
   "metadata": {},
   "outputs": [
    {
     "name": "stdout",
     "output_type": "stream",
     "text": [
      "Heroin use by ethnicity\n"
     ]
    },
    {
     "data": {
      "text/html": [
       "<div>\n",
       "<style scoped>\n",
       "    .dataframe tbody tr th:only-of-type {\n",
       "        vertical-align: middle;\n",
       "    }\n",
       "\n",
       "    .dataframe tbody tr th {\n",
       "        vertical-align: top;\n",
       "    }\n",
       "\n",
       "    .dataframe thead th {\n",
       "        text-align: right;\n",
       "    }\n",
       "</style>\n",
       "<table border=\"1\" class=\"dataframe\">\n",
       "  <thead>\n",
       "    <tr style=\"text-align: right;\">\n",
       "      <th></th>\n",
       "      <th>Label</th>\n",
       "      <th>Description</th>\n",
       "    </tr>\n",
       "  </thead>\n",
       "  <tbody>\n",
       "    <tr>\n",
       "      <th>0</th>\n",
       "      <td>CL0</td>\n",
       "      <td>Never Used</td>\n",
       "    </tr>\n",
       "    <tr>\n",
       "      <th>1</th>\n",
       "      <td>CL1</td>\n",
       "      <td>Used over a Decade Ago</td>\n",
       "    </tr>\n",
       "    <tr>\n",
       "      <th>2</th>\n",
       "      <td>CL2</td>\n",
       "      <td>Used in Last Decade</td>\n",
       "    </tr>\n",
       "    <tr>\n",
       "      <th>3</th>\n",
       "      <td>CL3</td>\n",
       "      <td>Used in Last Year</td>\n",
       "    </tr>\n",
       "    <tr>\n",
       "      <th>4</th>\n",
       "      <td>CL4</td>\n",
       "      <td>Used in Last Month</td>\n",
       "    </tr>\n",
       "    <tr>\n",
       "      <th>5</th>\n",
       "      <td>CL5</td>\n",
       "      <td>Used in Last Week</td>\n",
       "    </tr>\n",
       "    <tr>\n",
       "      <th>6</th>\n",
       "      <td>CL6</td>\n",
       "      <td>Used in Last Day</td>\n",
       "    </tr>\n",
       "  </tbody>\n",
       "</table>\n",
       "</div>"
      ],
      "text/plain": [
       "  Label             Description\n",
       "0   CL0              Never Used\n",
       "1   CL1  Used over a Decade Ago\n",
       "2   CL2     Used in Last Decade\n",
       "3   CL3       Used in Last Year\n",
       "4   CL4      Used in Last Month\n",
       "5   CL5       Used in Last Week\n",
       "6   CL6        Used in Last Day"
      ]
     },
     "execution_count": 282,
     "metadata": {},
     "output_type": "execute_result"
    },
    {
     "data": {
      "image/png": "[encoded data removed]",
      "text/plain": [
       "<Figure size 432x288 with 9 Axes>"
      ]
     },
     "metadata": {
      "needs_background": "light"
     },
     "output_type": "display_data"
    }
   ],
   "source": [
    "print('Heroin use by ethnicity')\n",
    "df.hist(by='ethnicity_label', column='heroin')\n",
    "plt.tight_layout()\n",
    "\n",
    "dict = {\n",
    "    'Label': ['CL0', 'CL1', 'CL2','CL3','CL4','CL5','CL6'],\n",
    "    'Description': ['Never Used', 'Used over a Decade Ago','Used in Last Decade','Used in Last Year','Used in Last Month','Used in Last Week','Used in Last Day']\n",
    "}\n",
    "\n",
    "pd.DataFrame(dict)"
   ]
  },
  {
   "cell_type": "code",
   "execution_count": 283,
   "id": "47d7a707",
   "metadata": {},
   "outputs": [
    {
     "name": "stdout",
     "output_type": "stream",
     "text": [
      "Cannabis use by age\n"
     ]
    },
    {
     "data": {
      "text/html": [
       "<div>\n",
       "<style scoped>\n",
       "    .dataframe tbody tr th:only-of-type {\n",
       "        vertical-align: middle;\n",
       "    }\n",
       "\n",
       "    .dataframe tbody tr th {\n",
       "        vertical-align: top;\n",
       "    }\n",
       "\n",
       "    .dataframe thead th {\n",
       "        text-align: right;\n",
       "    }\n",
       "</style>\n",
       "<table border=\"1\" class=\"dataframe\">\n",
       "  <thead>\n",
       "    <tr style=\"text-align: right;\">\n",
       "      <th></th>\n",
       "      <th>Label</th>\n",
       "      <th>Description</th>\n",
       "    </tr>\n",
       "  </thead>\n",
       "  <tbody>\n",
       "    <tr>\n",
       "      <th>0</th>\n",
       "      <td>CL0</td>\n",
       "      <td>Never Used</td>\n",
       "    </tr>\n",
       "    <tr>\n",
       "      <th>1</th>\n",
       "      <td>CL1</td>\n",
       "      <td>Used over a Decade Ago</td>\n",
       "    </tr>\n",
       "    <tr>\n",
       "      <th>2</th>\n",
       "      <td>CL2</td>\n",
       "      <td>Used in Last Decade</td>\n",
       "    </tr>\n",
       "    <tr>\n",
       "      <th>3</th>\n",
       "      <td>CL3</td>\n",
       "      <td>Used in Last Year</td>\n",
       "    </tr>\n",
       "    <tr>\n",
       "      <th>4</th>\n",
       "      <td>CL4</td>\n",
       "      <td>Used in Last Month</td>\n",
       "    </tr>\n",
       "    <tr>\n",
       "      <th>5</th>\n",
       "      <td>CL5</td>\n",
       "      <td>Used in Last Week</td>\n",
       "    </tr>\n",
       "    <tr>\n",
       "      <th>6</th>\n",
       "      <td>CL6</td>\n",
       "      <td>Used in Last Day</td>\n",
       "    </tr>\n",
       "  </tbody>\n",
       "</table>\n",
       "</div>"
      ],
      "text/plain": [
       "  Label             Description\n",
       "0   CL0              Never Used\n",
       "1   CL1  Used over a Decade Ago\n",
       "2   CL2     Used in Last Decade\n",
       "3   CL3       Used in Last Year\n",
       "4   CL4      Used in Last Month\n",
       "5   CL5       Used in Last Week\n",
       "6   CL6        Used in Last Day"
      ]
     },
     "execution_count": 283,
     "metadata": {},
     "output_type": "execute_result"
    },
    {
     "data": {
      "image/png": "[encoded data removed]",
      "text/plain": [
       "<Figure size 432x288 with 6 Axes>"
      ]
     },
     "metadata": {
      "needs_background": "light"
     },
     "output_type": "display_data"
    }
   ],
   "source": [
    "print('Cannabis use by age')\n",
    "df.hist(by='age_label', column='cannabis')\n",
    "plt.tight_layout()\n",
    "\n",
    "dict = {\n",
    "    'Label': ['CL0', 'CL1', 'CL2','CL3','CL4','CL5','CL6'],\n",
    "    'Description': ['Never Used', 'Used over a Decade Ago','Used in Last Decade','Used in Last Year','Used in Last Month','Used in Last Week','Used in Last Day']\n",
    "}\n",
    "\n",
    "pd.DataFrame(dict)"
   ]
  },
  {
   "cell_type": "code",
   "execution_count": 284,
   "id": "c6fb02d2",
   "metadata": {},
   "outputs": [
    {
     "name": "stdout",
     "output_type": "stream",
     "text": [
      "Cannabis use by gender\n"
     ]
    },
    {
     "data": {
      "text/html": [
       "<div>\n",
       "<style scoped>\n",
       "    .dataframe tbody tr th:only-of-type {\n",
       "        vertical-align: middle;\n",
       "    }\n",
       "\n",
       "    .dataframe tbody tr th {\n",
       "        vertical-align: top;\n",
       "    }\n",
       "\n",
       "    .dataframe thead th {\n",
       "        text-align: right;\n",
       "    }\n",
       "</style>\n",
       "<table border=\"1\" class=\"dataframe\">\n",
       "  <thead>\n",
       "    <tr style=\"text-align: right;\">\n",
       "      <th></th>\n",
       "      <th>Label</th>\n",
       "      <th>Description</th>\n",
       "    </tr>\n",
       "  </thead>\n",
       "  <tbody>\n",
       "    <tr>\n",
       "      <th>0</th>\n",
       "      <td>CL0</td>\n",
       "      <td>Never Used</td>\n",
       "    </tr>\n",
       "    <tr>\n",
       "      <th>1</th>\n",
       "      <td>CL1</td>\n",
       "      <td>Used over a Decade Ago</td>\n",
       "    </tr>\n",
       "    <tr>\n",
       "      <th>2</th>\n",
       "      <td>CL2</td>\n",
       "      <td>Used in Last Decade</td>\n",
       "    </tr>\n",
       "    <tr>\n",
       "      <th>3</th>\n",
       "      <td>CL3</td>\n",
       "      <td>Used in Last Year</td>\n",
       "    </tr>\n",
       "    <tr>\n",
       "      <th>4</th>\n",
       "      <td>CL4</td>\n",
       "      <td>Used in Last Month</td>\n",
       "    </tr>\n",
       "    <tr>\n",
       "      <th>5</th>\n",
       "      <td>CL5</td>\n",
       "      <td>Used in Last Week</td>\n",
       "    </tr>\n",
       "    <tr>\n",
       "      <th>6</th>\n",
       "      <td>CL6</td>\n",
       "      <td>Used in Last Day</td>\n",
       "    </tr>\n",
       "  </tbody>\n",
       "</table>\n",
       "</div>"
      ],
      "text/plain": [
       "  Label             Description\n",
       "0   CL0              Never Used\n",
       "1   CL1  Used over a Decade Ago\n",
       "2   CL2     Used in Last Decade\n",
       "3   CL3       Used in Last Year\n",
       "4   CL4      Used in Last Month\n",
       "5   CL5       Used in Last Week\n",
       "6   CL6        Used in Last Day"
      ]
     },
     "execution_count": 284,
     "metadata": {},
     "output_type": "execute_result"
    },
    {
     "data": {
      "image/png": "[encoded data removed]",
      "text/plain": [
       "<Figure size 432x288 with 2 Axes>"
      ]
     },
     "metadata": {
      "needs_background": "light"
     },
     "output_type": "display_data"
    }
   ],
   "source": [
    "print('Cannabis use by gender')\n",
    "df.hist(by='gender_label', column='cannabis')\n",
    "plt.tight_layout()\n",
    "\n",
    "dict = {\n",
    "    'Label': ['CL0', 'CL1', 'CL2','CL3','CL4','CL5','CL6'],\n",
    "    'Description': ['Never Used', 'Used over a Decade Ago','Used in Last Decade','Used in Last Year','Used in Last Month','Used in Last Week','Used in Last Day']\n",
    "}\n",
    "\n",
    "pd.DataFrame(dict)"
   ]
  },
  {
   "cell_type": "code",
   "execution_count": 285,
   "id": "57a5d19a",
   "metadata": {},
   "outputs": [
    {
     "name": "stdout",
     "output_type": "stream",
     "text": [
      "Cannabis use by country\n"
     ]
    },
    {
     "data": {
      "text/html": [
       "<div>\n",
       "<style scoped>\n",
       "    .dataframe tbody tr th:only-of-type {\n",
       "        vertical-align: middle;\n",
       "    }\n",
       "\n",
       "    .dataframe tbody tr th {\n",
       "        vertical-align: top;\n",
       "    }\n",
       "\n",
       "    .dataframe thead th {\n",
       "        text-align: right;\n",
       "    }\n",
       "</style>\n",
       "<table border=\"1\" class=\"dataframe\">\n",
       "  <thead>\n",
       "    <tr style=\"text-align: right;\">\n",
       "      <th></th>\n",
       "      <th>Label</th>\n",
       "      <th>Description</th>\n",
       "    </tr>\n",
       "  </thead>\n",
       "  <tbody>\n",
       "    <tr>\n",
       "      <th>0</th>\n",
       "      <td>CL0</td>\n",
       "      <td>Never Used</td>\n",
       "    </tr>\n",
       "    <tr>\n",
       "      <th>1</th>\n",
       "      <td>CL1</td>\n",
       "      <td>Used over a Decade Ago</td>\n",
       "    </tr>\n",
       "    <tr>\n",
       "      <th>2</th>\n",
       "      <td>CL2</td>\n",
       "      <td>Used in Last Decade</td>\n",
       "    </tr>\n",
       "    <tr>\n",
       "      <th>3</th>\n",
       "      <td>CL3</td>\n",
       "      <td>Used in Last Year</td>\n",
       "    </tr>\n",
       "    <tr>\n",
       "      <th>4</th>\n",
       "      <td>CL4</td>\n",
       "      <td>Used in Last Month</td>\n",
       "    </tr>\n",
       "    <tr>\n",
       "      <th>5</th>\n",
       "      <td>CL5</td>\n",
       "      <td>Used in Last Week</td>\n",
       "    </tr>\n",
       "    <tr>\n",
       "      <th>6</th>\n",
       "      <td>CL6</td>\n",
       "      <td>Used in Last Day</td>\n",
       "    </tr>\n",
       "  </tbody>\n",
       "</table>\n",
       "</div>"
      ],
      "text/plain": [
       "  Label             Description\n",
       "0   CL0              Never Used\n",
       "1   CL1  Used over a Decade Ago\n",
       "2   CL2     Used in Last Decade\n",
       "3   CL3       Used in Last Year\n",
       "4   CL4      Used in Last Month\n",
       "5   CL5       Used in Last Week\n",
       "6   CL6        Used in Last Day"
      ]
     },
     "execution_count": 285,
     "metadata": {},
     "output_type": "execute_result"
    },
    {
     "data": {
      "image/png": "[encoded data removed]",
      "text/plain": [
       "<Figure size 432x288 with 9 Axes>"
      ]
     },
     "metadata": {
      "needs_background": "light"
     },
     "output_type": "display_data"
    }
   ],
   "source": [
    "print('Cannabis use by country')\n",
    "df.hist(by='country_label', column='cannabis')\n",
    "plt.tight_layout()\n",
    "\n",
    "dict = {\n",
    "    'Label': ['CL0', 'CL1', 'CL2','CL3','CL4','CL5','CL6'],\n",
    "    'Description': ['Never Used', 'Used over a Decade Ago','Used in Last Decade','Used in Last Year','Used in Last Month','Used in Last Week','Used in Last Day']\n",
    "}\n",
    "\n",
    "pd.DataFrame(dict)"
   ]
  },
  {
   "cell_type": "code",
   "execution_count": 286,
   "id": "4848456d",
   "metadata": {},
   "outputs": [
    {
     "name": "stdout",
     "output_type": "stream",
     "text": [
      "Cannabis use by ethnicity\n"
     ]
    },
    {
     "data": {
      "text/html": [
       "<div>\n",
       "<style scoped>\n",
       "    .dataframe tbody tr th:only-of-type {\n",
       "        vertical-align: middle;\n",
       "    }\n",
       "\n",
       "    .dataframe tbody tr th {\n",
       "        vertical-align: top;\n",
       "    }\n",
       "\n",
       "    .dataframe thead th {\n",
       "        text-align: right;\n",
       "    }\n",
       "</style>\n",
       "<table border=\"1\" class=\"dataframe\">\n",
       "  <thead>\n",
       "    <tr style=\"text-align: right;\">\n",
       "      <th></th>\n",
       "      <th>Label</th>\n",
       "      <th>Description</th>\n",
       "    </tr>\n",
       "  </thead>\n",
       "  <tbody>\n",
       "    <tr>\n",
       "      <th>0</th>\n",
       "      <td>CL0</td>\n",
       "      <td>Never Used</td>\n",
       "    </tr>\n",
       "    <tr>\n",
       "      <th>1</th>\n",
       "      <td>CL1</td>\n",
       "      <td>Used over a Decade Ago</td>\n",
       "    </tr>\n",
       "    <tr>\n",
       "      <th>2</th>\n",
       "      <td>CL2</td>\n",
       "      <td>Used in Last Decade</td>\n",
       "    </tr>\n",
       "    <tr>\n",
       "      <th>3</th>\n",
       "      <td>CL3</td>\n",
       "      <td>Used in Last Year</td>\n",
       "    </tr>\n",
       "    <tr>\n",
       "      <th>4</th>\n",
       "      <td>CL4</td>\n",
       "      <td>Used in Last Month</td>\n",
       "    </tr>\n",
       "    <tr>\n",
       "      <th>5</th>\n",
       "      <td>CL5</td>\n",
       "      <td>Used in Last Week</td>\n",
       "    </tr>\n",
       "    <tr>\n",
       "      <th>6</th>\n",
       "      <td>CL6</td>\n",
       "      <td>Used in Last Day</td>\n",
       "    </tr>\n",
       "  </tbody>\n",
       "</table>\n",
       "</div>"
      ],
      "text/plain": [
       "  Label             Description\n",
       "0   CL0              Never Used\n",
       "1   CL1  Used over a Decade Ago\n",
       "2   CL2     Used in Last Decade\n",
       "3   CL3       Used in Last Year\n",
       "4   CL4      Used in Last Month\n",
       "5   CL5       Used in Last Week\n",
       "6   CL6        Used in Last Day"
      ]
     },
     "execution_count": 286,
     "metadata": {},
     "output_type": "execute_result"
    },
    {
     "data": {
      "image/png": "[encoded data removed]",
      "text/plain": [
       "<Figure size 432x288 with 9 Axes>"
      ]
     },
     "metadata": {
      "needs_background": "light"
     },
     "output_type": "display_data"
    }
   ],
   "source": [
    "print('Cannabis use by ethnicity')\n",
    "df.hist(by='ethnicity_label', column='cannabis')\n",
    "plt.tight_layout()\n",
    "\n",
    "dict = {\n",
    "    'Label': ['CL0', 'CL1', 'CL2','CL3','CL4','CL5','CL6'],\n",
    "    'Description': ['Never Used', 'Used over a Decade Ago','Used in Last Decade','Used in Last Year','Used in Last Month','Used in Last Week','Used in Last Day']\n",
    "}\n",
    "\n",
    "pd.DataFrame(dict)"
   ]
  },
  {
   "cell_type": "code",
   "execution_count": 287,
   "id": "7df05fcc",
   "metadata": {},
   "outputs": [],
   "source": [
    "heroin_user = []\n",
    "for heroin in df.heroin:\n",
    "    if(heroin=='CL0'):\n",
    "        heroin_user.append(0)\n",
    "    else:\n",
    "        heroin_user.append(1)\n",
    "df['heroin_user'] = heroin_user\n",
    "        \n",
    "cannabis_user = []\n",
    "for cannabis in df.cannabis:\n",
    "    if(cannabis=='CL0'):\n",
    "        cannabis_user.append(0)\n",
    "    else:\n",
    "        cannabis_user.append(1)\n",
    "df['cannabis_user'] = cannabis_user"
   ]
  },
  {
   "cell_type": "code",
   "execution_count": 288,
   "id": "5fc81435",
   "metadata": {},
   "outputs": [],
   "source": [
    "# Label privileged and unprivileged groups\n",
    "age_priv = []\n",
    "for age in df.age:\n",
    "    if((age == -0.95197) or (age == -0.07854 ) or (age == 0.49788)):\n",
    "        age_priv.append(1)\n",
    "    else:\n",
    "        age_priv.append(0)\n",
    "df['age_priv'] = age_priv\n",
    "\n",
    "gender_priv = []\n",
    "for gender in df.gender_label:\n",
    "    if(gender == 'female'):\n",
    "        gender_priv.append(0)\n",
    "    else:\n",
    "        gender_priv.append(1)\n",
    "df['gender_priv'] = gender_priv\n",
    "\n",
    "country_priv = []\n",
    "for country in df.country_label:\n",
    "    if(country == 'Other'):\n",
    "        country_priv.append(0)\n",
    "    else:\n",
    "        country_priv.append(1)\n",
    "df['country_priv'] = country_priv\n",
    "\n",
    "ethnicity_priv = []\n",
    "for ethnicity in df.ethnicity_label:\n",
    "    if(ethnicity == 'White'):\n",
    "        ethnicity_priv.append(1)\n",
    "    else:\n",
    "        ethnicity_priv.append(0)\n",
    "df['ethnicity_priv'] = ethnicity_priv\n",
    "\n",
    "# df"
   ]
  },
  {
   "cell_type": "code",
   "execution_count": 289,
   "id": "859ecb42",
   "metadata": {},
   "outputs": [],
   "source": [
    "# STEP 3"
   ]
  },
  {
   "cell_type": "code",
   "execution_count": 290,
   "id": "5b2c67c5",
   "metadata": {
    "scrolled": true
   },
   "outputs": [
    {
     "name": "stdout",
     "output_type": "stream",
     "text": [
      "Age fairness calculations with heroin use\n"
     ]
    },
    {
     "data": {
      "text/html": [
       "<div>\n",
       "<style scoped>\n",
       "    .dataframe tbody tr th:only-of-type {\n",
       "        vertical-align: middle;\n",
       "    }\n",
       "\n",
       "    .dataframe tbody tr th {\n",
       "        vertical-align: top;\n",
       "    }\n",
       "\n",
       "    .dataframe thead th {\n",
       "        text-align: right;\n",
       "    }\n",
       "</style>\n",
       "<table border=\"1\" class=\"dataframe\">\n",
       "  <thead>\n",
       "    <tr style=\"text-align: right;\">\n",
       "      <th></th>\n",
       "      <th>Metric</th>\n",
       "      <th>Result</th>\n",
       "    </tr>\n",
       "  </thead>\n",
       "  <tbody>\n",
       "    <tr>\n",
       "      <th>0</th>\n",
       "      <td>Disparate impact</td>\n",
       "      <td>1.019257</td>\n",
       "    </tr>\n",
       "    <tr>\n",
       "      <th>1</th>\n",
       "      <td>Mean difference</td>\n",
       "      <td>0.016327</td>\n",
       "    </tr>\n",
       "  </tbody>\n",
       "</table>\n",
       "</div>"
      ],
      "text/plain": [
       "             Metric    Result\n",
       "0  Disparate impact  1.019257\n",
       "1   Mean difference  0.016327"
      ]
     },
     "execution_count": 290,
     "metadata": {},
     "output_type": "execute_result"
    }
   ],
   "source": [
    "print('Age fairness calculations with heroin use')\n",
    "df_age_priv = df.drop(['age_label', 'gender_label','country_label', 'ethnicity_label', 'heroin_label', 'cannabis_label', \n",
    "                      'alcohol', 'amphet', 'amyl', 'benzos', 'caff', 'cannabis', 'choc','coke','crack','ecstasy','heroin','ketamine','legalh','lsd','meth','mushrooms','nicotine','semer','vsa'\n",
    "                      ], axis=1)\n",
    "binaryLabelDataset = aif360.datasets.BinaryLabelDataset(\n",
    "    favorable_label=0,\n",
    "    unfavorable_label=1,\n",
    "    df=df_age_priv,\n",
    "    label_names=['heroin_user'],\n",
    "    protected_attribute_names=['age_priv']\n",
    ")\n",
    "metric = BinaryLabelDatasetMetric(binaryLabelDataset,unprivileged_groups=[{'age_priv': 0}],privileged_groups=[{'age_priv': 1}])\n",
    "\n",
    "dict = {\n",
    "    'Metric': ['Disparate impact', 'Mean difference'],\n",
    "    'Result': [metric.disparate_impact(), metric.mean_difference()]\n",
    "}\n",
    "\n",
    "age_heroin_og = dict\n",
    "\n",
    "pd.DataFrame(dict)"
   ]
  },
  {
   "cell_type": "code",
   "execution_count": 291,
   "id": "c60c9156",
   "metadata": {},
   "outputs": [
    {
     "data": {
      "text/html": [
       "<div>\n",
       "<style scoped>\n",
       "    .dataframe tbody tr th:only-of-type {\n",
       "        vertical-align: middle;\n",
       "    }\n",
       "\n",
       "    .dataframe tbody tr th {\n",
       "        vertical-align: top;\n",
       "    }\n",
       "\n",
       "    .dataframe thead th {\n",
       "        text-align: right;\n",
       "    }\n",
       "</style>\n",
       "<table border=\"1\" class=\"dataframe\">\n",
       "  <thead>\n",
       "    <tr style=\"text-align: right;\">\n",
       "      <th></th>\n",
       "      <th>Metric</th>\n",
       "      <th>Result</th>\n",
       "    </tr>\n",
       "  </thead>\n",
       "  <tbody>\n",
       "    <tr>\n",
       "      <th>0</th>\n",
       "      <td>Disparate impact</td>\n",
       "      <td>1.0</td>\n",
       "    </tr>\n",
       "    <tr>\n",
       "      <th>1</th>\n",
       "      <td>Mean difference</td>\n",
       "      <td>0.0</td>\n",
       "    </tr>\n",
       "  </tbody>\n",
       "</table>\n",
       "</div>"
      ],
      "text/plain": [
       "             Metric  Result\n",
       "0  Disparate impact     1.0\n",
       "1   Mean difference     0.0"
      ]
     },
     "execution_count": 291,
     "metadata": {},
     "output_type": "execute_result"
    }
   ],
   "source": [
    "# Split with 1 ratio so it doesn't spit data at all (in step 3 instructions, the analysis should be conducted on the entire dataset)\n",
    "dataset_orig_train, dataset_orig_vt = binaryLabelDataset.split([1], shuffle=True)\n",
    "RW = Reweighing(unprivileged_groups=[{'age_priv': 0}],\n",
    "               privileged_groups=[{'age_priv': 1}])\n",
    "RW.fit(dataset_orig_train)\n",
    "dataset_transf_train = RW.transform(dataset_orig_train)\n",
    "\n",
    "metric = BinaryLabelDatasetMetric(dataset_transf_train,unprivileged_groups=[{'age_priv': 0}],privileged_groups=[{'age_priv': 1}])\n",
    "\n",
    "dict = {\n",
    "    'Metric': ['Disparate impact', 'Mean difference'],\n",
    "    'Result': [metric.disparate_impact(), metric.mean_difference()]\n",
    "}\n",
    "\n",
    "age_heroin_rw = dict\n",
    "\n",
    "pd.DataFrame(dict)"
   ]
  },
  {
   "cell_type": "code",
   "execution_count": 292,
   "id": "c05b2a72",
   "metadata": {},
   "outputs": [
    {
     "data": {
      "text/html": [
       "<div>\n",
       "<style scoped>\n",
       "    .dataframe tbody tr th:only-of-type {\n",
       "        vertical-align: middle;\n",
       "    }\n",
       "\n",
       "    .dataframe tbody tr th {\n",
       "        vertical-align: top;\n",
       "    }\n",
       "\n",
       "    .dataframe thead th {\n",
       "        text-align: right;\n",
       "    }\n",
       "</style>\n",
       "<table border=\"1\" class=\"dataframe\">\n",
       "  <thead>\n",
       "    <tr style=\"text-align: right;\">\n",
       "      <th></th>\n",
       "      <th>Metric</th>\n",
       "      <th>Result</th>\n",
       "    </tr>\n",
       "  </thead>\n",
       "  <tbody>\n",
       "    <tr>\n",
       "      <th>0</th>\n",
       "      <td>Disparate impact</td>\n",
       "      <td>1.019257</td>\n",
       "    </tr>\n",
       "    <tr>\n",
       "      <th>1</th>\n",
       "      <td>Mean difference</td>\n",
       "      <td>0.016327</td>\n",
       "    </tr>\n",
       "  </tbody>\n",
       "</table>\n",
       "</div>"
      ],
      "text/plain": [
       "             Metric    Result\n",
       "0  Disparate impact  1.019257\n",
       "1   Mean difference  0.016327"
      ]
     },
     "execution_count": 292,
     "metadata": {},
     "output_type": "execute_result"
    }
   ],
   "source": [
    "# Split with 1 ratio so it doesn't spit data at all (in step 3 instructions, the analysis should be conducted on the entire dataset)\n",
    "dataset_orig_train, dataset_orig_vt = binaryLabelDataset.split([1], shuffle=True)\n",
    "DIR = DisparateImpactRemover(repair_level=1,sensitive_attribute='age_priv')\n",
    "dataset_transf_train = DIR.fit_transform(dataset_orig_train)\n",
    "\n",
    "metric = BinaryLabelDatasetMetric(dataset_transf_train,unprivileged_groups=[{'age_priv': 0}],privileged_groups=[{'age_priv': 1}])\n",
    "\n",
    "dict = {\n",
    "    'Metric': ['Disparate impact', 'Mean difference'],\n",
    "    'Result': [metric.disparate_impact(), metric.mean_difference()]\n",
    "}\n",
    "\n",
    "age_heroin_dir = dict\n",
    "\n",
    "pd.DataFrame(dict)"
   ]
  },
  {
   "cell_type": "code",
   "execution_count": 293,
   "id": "02c4f1d3",
   "metadata": {},
   "outputs": [
    {
     "name": "stdout",
     "output_type": "stream",
     "text": [
      "Age fairness calculations with cannabis use\n"
     ]
    },
    {
     "data": {
      "text/html": [
       "<div>\n",
       "<style scoped>\n",
       "    .dataframe tbody tr th:only-of-type {\n",
       "        vertical-align: middle;\n",
       "    }\n",
       "\n",
       "    .dataframe tbody tr th {\n",
       "        vertical-align: top;\n",
       "    }\n",
       "\n",
       "    .dataframe thead th {\n",
       "        text-align: right;\n",
       "    }\n",
       "</style>\n",
       "<table border=\"1\" class=\"dataframe\">\n",
       "  <thead>\n",
       "    <tr style=\"text-align: right;\">\n",
       "      <th></th>\n",
       "      <th>Metric</th>\n",
       "      <th>Result</th>\n",
       "    </tr>\n",
       "  </thead>\n",
       "  <tbody>\n",
       "    <tr>\n",
       "      <th>0</th>\n",
       "      <td>Disparate impact</td>\n",
       "      <td>2.112757</td>\n",
       "    </tr>\n",
       "    <tr>\n",
       "      <th>1</th>\n",
       "      <td>Mean difference</td>\n",
       "      <td>0.196369</td>\n",
       "    </tr>\n",
       "  </tbody>\n",
       "</table>\n",
       "</div>"
      ],
      "text/plain": [
       "             Metric    Result\n",
       "0  Disparate impact  2.112757\n",
       "1   Mean difference  0.196369"
      ]
     },
     "execution_count": 293,
     "metadata": {},
     "output_type": "execute_result"
    }
   ],
   "source": [
    "print('Age fairness calculations with cannabis use')\n",
    "df_age_priv = df.drop(['age_label', 'gender_label','country_label', 'ethnicity_label', 'heroin_label', 'cannabis_label', \n",
    "                      'alcohol', 'amphet', 'amyl', 'benzos', 'caff', 'cannabis', 'choc','coke','crack','ecstasy','heroin','ketamine','legalh','lsd','meth','mushrooms','nicotine','semer','vsa'\n",
    "                      ], axis=1)\n",
    "binaryLabelDataset = aif360.datasets.BinaryLabelDataset(\n",
    "    favorable_label=0,\n",
    "    unfavorable_label=1,\n",
    "    df=df_age_priv,\n",
    "    label_names=['cannabis_user'],\n",
    "    protected_attribute_names=['age_priv']\n",
    ")\n",
    "metric = BinaryLabelDatasetMetric(binaryLabelDataset,unprivileged_groups=[{'age_priv': 0}],privileged_groups=[{'age_priv': 1}])\n",
    "\n",
    "dict = {\n",
    "    'Metric': ['Disparate impact', 'Mean difference'],\n",
    "    'Result': [metric.disparate_impact(), metric.mean_difference()]\n",
    "}\n",
    "\n",
    "age_cannabis_og = dict\n",
    "\n",
    "pd.DataFrame(dict)"
   ]
  },
  {
   "cell_type": "code",
   "execution_count": 294,
   "id": "6f2f3e2e",
   "metadata": {},
   "outputs": [
    {
     "data": {
      "text/html": [
       "<div>\n",
       "<style scoped>\n",
       "    .dataframe tbody tr th:only-of-type {\n",
       "        vertical-align: middle;\n",
       "    }\n",
       "\n",
       "    .dataframe tbody tr th {\n",
       "        vertical-align: top;\n",
       "    }\n",
       "\n",
       "    .dataframe thead th {\n",
       "        text-align: right;\n",
       "    }\n",
       "</style>\n",
       "<table border=\"1\" class=\"dataframe\">\n",
       "  <thead>\n",
       "    <tr style=\"text-align: right;\">\n",
       "      <th></th>\n",
       "      <th>Metric</th>\n",
       "      <th>Result</th>\n",
       "    </tr>\n",
       "  </thead>\n",
       "  <tbody>\n",
       "    <tr>\n",
       "      <th>0</th>\n",
       "      <td>Disparate impact</td>\n",
       "      <td>1.000000e+00</td>\n",
       "    </tr>\n",
       "    <tr>\n",
       "      <th>1</th>\n",
       "      <td>Mean difference</td>\n",
       "      <td>-8.326673e-17</td>\n",
       "    </tr>\n",
       "  </tbody>\n",
       "</table>\n",
       "</div>"
      ],
      "text/plain": [
       "             Metric        Result\n",
       "0  Disparate impact  1.000000e+00\n",
       "1   Mean difference -8.326673e-17"
      ]
     },
     "execution_count": 294,
     "metadata": {},
     "output_type": "execute_result"
    }
   ],
   "source": [
    "# Split with 1 ratio so it doesn't spit data at all (in step 3 instructions, the analysis should be conducted on the entire dataset)\n",
    "dataset_orig_train, dataset_orig_vt = binaryLabelDataset.split([1], shuffle=True)\n",
    "RW = Reweighing(unprivileged_groups=[{'age_priv': 0}],\n",
    "               privileged_groups=[{'age_priv': 1}])\n",
    "RW.fit(dataset_orig_train)\n",
    "dataset_transf_train = RW.transform(dataset_orig_train)\n",
    "\n",
    "metric = BinaryLabelDatasetMetric(dataset_transf_train,unprivileged_groups=[{'age_priv': 0}],privileged_groups=[{'age_priv': 1}])\n",
    "\n",
    "dict = {\n",
    "    'Metric': ['Disparate impact', 'Mean difference'],\n",
    "    'Result': [metric.disparate_impact(), metric.mean_difference()]\n",
    "}\n",
    "\n",
    "age_cannabis_rw = dict\n",
    "\n",
    "pd.DataFrame(dict)"
   ]
  },
  {
   "cell_type": "code",
   "execution_count": 295,
   "id": "625c4205",
   "metadata": {},
   "outputs": [
    {
     "data": {
      "text/html": [
       "<div>\n",
       "<style scoped>\n",
       "    .dataframe tbody tr th:only-of-type {\n",
       "        vertical-align: middle;\n",
       "    }\n",
       "\n",
       "    .dataframe tbody tr th {\n",
       "        vertical-align: top;\n",
       "    }\n",
       "\n",
       "    .dataframe thead th {\n",
       "        text-align: right;\n",
       "    }\n",
       "</style>\n",
       "<table border=\"1\" class=\"dataframe\">\n",
       "  <thead>\n",
       "    <tr style=\"text-align: right;\">\n",
       "      <th></th>\n",
       "      <th>Metric</th>\n",
       "      <th>Result</th>\n",
       "    </tr>\n",
       "  </thead>\n",
       "  <tbody>\n",
       "    <tr>\n",
       "      <th>0</th>\n",
       "      <td>Disparate impact</td>\n",
       "      <td>2.112757</td>\n",
       "    </tr>\n",
       "    <tr>\n",
       "      <th>1</th>\n",
       "      <td>Mean difference</td>\n",
       "      <td>0.196369</td>\n",
       "    </tr>\n",
       "  </tbody>\n",
       "</table>\n",
       "</div>"
      ],
      "text/plain": [
       "             Metric    Result\n",
       "0  Disparate impact  2.112757\n",
       "1   Mean difference  0.196369"
      ]
     },
     "execution_count": 295,
     "metadata": {},
     "output_type": "execute_result"
    }
   ],
   "source": [
    "# Split with 1 ratio so it doesn't spit data at all (in step 3 instructions, the analysis should be conducted on the entire dataset)\n",
    "dataset_orig_train, dataset_orig_vt = binaryLabelDataset.split([1], shuffle=True)\n",
    "DIR = DisparateImpactRemover(repair_level=1,sensitive_attribute='age_priv')\n",
    "dataset_transf_train = DIR.fit_transform(dataset_orig_train)\n",
    "\n",
    "metric = BinaryLabelDatasetMetric(dataset_transf_train,unprivileged_groups=[{'age_priv': 0}],privileged_groups=[{'age_priv': 1}])\n",
    "\n",
    "dict = {\n",
    "    'Metric': ['Disparate impact', 'Mean difference'],\n",
    "    'Result': [metric.disparate_impact(), metric.mean_difference()]\n",
    "}\n",
    "\n",
    "age_cannabis_dir = dict\n",
    "\n",
    "pd.DataFrame(dict)"
   ]
  },
  {
   "cell_type": "code",
   "execution_count": 314,
   "id": "abbd9ba2",
   "metadata": {},
   "outputs": [
    {
     "name": "stdout",
     "output_type": "stream",
     "text": [
      "Gender fairness calculations with heroin use\n"
     ]
    },
    {
     "data": {
      "text/html": [
       "<div>\n",
       "<style scoped>\n",
       "    .dataframe tbody tr th:only-of-type {\n",
       "        vertical-align: middle;\n",
       "    }\n",
       "\n",
       "    .dataframe tbody tr th {\n",
       "        vertical-align: top;\n",
       "    }\n",
       "\n",
       "    .dataframe thead th {\n",
       "        text-align: right;\n",
       "    }\n",
       "</style>\n",
       "<table border=\"1\" class=\"dataframe\">\n",
       "  <thead>\n",
       "    <tr style=\"text-align: right;\">\n",
       "      <th></th>\n",
       "      <th>Metric</th>\n",
       "      <th>Result</th>\n",
       "    </tr>\n",
       "  </thead>\n",
       "  <tbody>\n",
       "    <tr>\n",
       "      <th>0</th>\n",
       "      <td>Disparate impact</td>\n",
       "      <td>1.112887</td>\n",
       "    </tr>\n",
       "    <tr>\n",
       "      <th>1</th>\n",
       "      <td>Mean difference</td>\n",
       "      <td>0.090980</td>\n",
       "    </tr>\n",
       "  </tbody>\n",
       "</table>\n",
       "</div>"
      ],
      "text/plain": [
       "             Metric    Result\n",
       "0  Disparate impact  1.112887\n",
       "1   Mean difference  0.090980"
      ]
     },
     "execution_count": 314,
     "metadata": {},
     "output_type": "execute_result"
    }
   ],
   "source": [
    "print('Gender fairness calculations with heroin use')\n",
    "df_gender_priv = df.drop(['age_label', 'gender_label','country_label', 'ethnicity_label', 'heroin_label', 'cannabis_label', \n",
    "                      'alcohol', 'amphet', 'amyl', 'benzos', 'caff', 'cannabis', 'choc','coke','crack','ecstasy','heroin','ketamine','legalh','lsd','meth','mushrooms','nicotine','semer','vsa'\n",
    "                      ], axis=1)\n",
    "binaryLabelDataset = aif360.datasets.BinaryLabelDataset(\n",
    "    favorable_label=0,\n",
    "    unfavorable_label=1,\n",
    "    df=df_gender_priv,\n",
    "    label_names=['heroin_user'],\n",
    "    protected_attribute_names=['gender_priv']\n",
    ")\n",
    "metric = BinaryLabelDatasetMetric(binaryLabelDataset,unprivileged_groups=[{'gender_priv': 0}],privileged_groups=[{'gender_priv': 1}])\n",
    "\n",
    "dict = {\n",
    "    'Metric': ['Disparate impact', 'Mean difference'],\n",
    "    'Result': [metric.disparate_impact(), metric.mean_difference()]\n",
    "}\n",
    "\n",
    "gender_heroin_og = dict\n",
    "\n",
    "pd.DataFrame(dict)"
   ]
  },
  {
   "cell_type": "code",
   "execution_count": 315,
   "id": "780a7caa",
   "metadata": {},
   "outputs": [
    {
     "data": {
      "text/html": [
       "<div>\n",
       "<style scoped>\n",
       "    .dataframe tbody tr th:only-of-type {\n",
       "        vertical-align: middle;\n",
       "    }\n",
       "\n",
       "    .dataframe tbody tr th {\n",
       "        vertical-align: top;\n",
       "    }\n",
       "\n",
       "    .dataframe thead th {\n",
       "        text-align: right;\n",
       "    }\n",
       "</style>\n",
       "<table border=\"1\" class=\"dataframe\">\n",
       "  <thead>\n",
       "    <tr style=\"text-align: right;\">\n",
       "      <th></th>\n",
       "      <th>Metric</th>\n",
       "      <th>Result</th>\n",
       "    </tr>\n",
       "  </thead>\n",
       "  <tbody>\n",
       "    <tr>\n",
       "      <th>0</th>\n",
       "      <td>Disparate impact</td>\n",
       "      <td>1.000000e+00</td>\n",
       "    </tr>\n",
       "    <tr>\n",
       "      <th>1</th>\n",
       "      <td>Mean difference</td>\n",
       "      <td>1.110223e-16</td>\n",
       "    </tr>\n",
       "  </tbody>\n",
       "</table>\n",
       "</div>"
      ],
      "text/plain": [
       "             Metric        Result\n",
       "0  Disparate impact  1.000000e+00\n",
       "1   Mean difference  1.110223e-16"
      ]
     },
     "execution_count": 315,
     "metadata": {},
     "output_type": "execute_result"
    }
   ],
   "source": [
    "# Split with 1 ratio so it doesn't spit data at all (in step 3 instructions, the analysis should be conducted on the entire dataset)\n",
    "dataset_orig_train, dataset_orig_vt = binaryLabelDataset.split([1], shuffle=True)\n",
    "RW = Reweighing(unprivileged_groups=[{'gender_priv': 0}],\n",
    "               privileged_groups=[{'gender_priv': 1}])\n",
    "RW.fit(dataset_orig_train)\n",
    "dataset_transf_train = RW.transform(dataset_orig_train)\n",
    "\n",
    "metric = BinaryLabelDatasetMetric(dataset_transf_train,unprivileged_groups=[{'gender_priv': 0}],privileged_groups=[{'gender_priv': 1}])\n",
    "\n",
    "dict = {\n",
    "    'Metric': ['Disparate impact', 'Mean difference'],\n",
    "    'Result': [metric.disparate_impact(), metric.mean_difference()]\n",
    "}\n",
    "\n",
    "gender_heroin_rw = dict\n",
    "\n",
    "pd.DataFrame(dict)"
   ]
  },
  {
   "cell_type": "code",
   "execution_count": 316,
   "id": "f91c4eb7",
   "metadata": {},
   "outputs": [
    {
     "data": {
      "text/html": [
       "<div>\n",
       "<style scoped>\n",
       "    .dataframe tbody tr th:only-of-type {\n",
       "        vertical-align: middle;\n",
       "    }\n",
       "\n",
       "    .dataframe tbody tr th {\n",
       "        vertical-align: top;\n",
       "    }\n",
       "\n",
       "    .dataframe thead th {\n",
       "        text-align: right;\n",
       "    }\n",
       "</style>\n",
       "<table border=\"1\" class=\"dataframe\">\n",
       "  <thead>\n",
       "    <tr style=\"text-align: right;\">\n",
       "      <th></th>\n",
       "      <th>Metric</th>\n",
       "      <th>Result</th>\n",
       "    </tr>\n",
       "  </thead>\n",
       "  <tbody>\n",
       "    <tr>\n",
       "      <th>0</th>\n",
       "      <td>Disparate impact</td>\n",
       "      <td>1.112887</td>\n",
       "    </tr>\n",
       "    <tr>\n",
       "      <th>1</th>\n",
       "      <td>Mean difference</td>\n",
       "      <td>0.090980</td>\n",
       "    </tr>\n",
       "  </tbody>\n",
       "</table>\n",
       "</div>"
      ],
      "text/plain": [
       "             Metric    Result\n",
       "0  Disparate impact  1.112887\n",
       "1   Mean difference  0.090980"
      ]
     },
     "execution_count": 316,
     "metadata": {},
     "output_type": "execute_result"
    }
   ],
   "source": [
    "# Split with 1 ratio so it doesn't spit data at all (in step 3 instructions, the analysis should be conducted on the entire dataset)\n",
    "dataset_orig_train, dataset_orig_vt = binaryLabelDataset.split([1], shuffle=True)\n",
    "DIR = DisparateImpactRemover(repair_level=1,sensitive_attribute='gender_priv')\n",
    "dataset_transf_train = DIR.fit_transform(dataset_orig_train)\n",
    "\n",
    "metric = BinaryLabelDatasetMetric(dataset_transf_train,unprivileged_groups=[{'gender_priv': 0}],privileged_groups=[{'gender_priv': 1}])\n",
    "\n",
    "dict = {\n",
    "    'Metric': ['Disparate impact', 'Mean difference'],\n",
    "    'Result': [metric.disparate_impact(), metric.mean_difference()]\n",
    "}\n",
    "\n",
    "gender_heroin_dir = dict\n",
    "\n",
    "pd.DataFrame(dict)"
   ]
  },
  {
   "cell_type": "code",
   "execution_count": 317,
   "id": "800855a9",
   "metadata": {},
   "outputs": [
    {
     "name": "stdout",
     "output_type": "stream",
     "text": [
      "Gender fairness calculations with cannabis use\n"
     ]
    },
    {
     "data": {
      "text/html": [
       "<div>\n",
       "<style scoped>\n",
       "    .dataframe tbody tr th:only-of-type {\n",
       "        vertical-align: middle;\n",
       "    }\n",
       "\n",
       "    .dataframe tbody tr th {\n",
       "        vertical-align: top;\n",
       "    }\n",
       "\n",
       "    .dataframe thead th {\n",
       "        text-align: right;\n",
       "    }\n",
       "</style>\n",
       "<table border=\"1\" class=\"dataframe\">\n",
       "  <thead>\n",
       "    <tr style=\"text-align: right;\">\n",
       "      <th></th>\n",
       "      <th>Metric</th>\n",
       "      <th>Result</th>\n",
       "    </tr>\n",
       "  </thead>\n",
       "  <tbody>\n",
       "    <tr>\n",
       "      <th>0</th>\n",
       "      <td>Disparate impact</td>\n",
       "      <td>2.526726</td>\n",
       "    </tr>\n",
       "    <tr>\n",
       "      <th>1</th>\n",
       "      <td>Mean difference</td>\n",
       "      <td>0.189424</td>\n",
       "    </tr>\n",
       "  </tbody>\n",
       "</table>\n",
       "</div>"
      ],
      "text/plain": [
       "             Metric    Result\n",
       "0  Disparate impact  2.526726\n",
       "1   Mean difference  0.189424"
      ]
     },
     "execution_count": 317,
     "metadata": {},
     "output_type": "execute_result"
    }
   ],
   "source": [
    "print('Gender fairness calculations with cannabis use')\n",
    "df_gender_priv = df.drop(['age_label', 'gender_label','country_label', 'ethnicity_label', 'heroin_label', 'cannabis_label', \n",
    "                      'alcohol', 'amphet', 'amyl', 'benzos', 'caff', 'cannabis', 'choc','coke','crack','ecstasy','heroin','ketamine','legalh','lsd','meth','mushrooms','nicotine','semer','vsa'\n",
    "                      ], axis=1)\n",
    "binaryLabelDataset = aif360.datasets.BinaryLabelDataset(\n",
    "    favorable_label=0,\n",
    "    unfavorable_label=1,\n",
    "    df=df_gender_priv,\n",
    "    label_names=['cannabis_user'],\n",
    "    protected_attribute_names=['gender_priv']\n",
    ")\n",
    "metric = BinaryLabelDatasetMetric(binaryLabelDataset,unprivileged_groups=[{'gender_priv': 0}],privileged_groups=[{'gender_priv': 1}])\n",
    "\n",
    "dict = {\n",
    "    'Metric': ['Disparate impact', 'Mean difference'],\n",
    "    'Result': [metric.disparate_impact(), metric.mean_difference()]\n",
    "}\n",
    "\n",
    "gender_cannabis_og = dict\n",
    "\n",
    "pd.DataFrame(dict)"
   ]
  },
  {
   "cell_type": "code",
   "execution_count": 318,
   "id": "9b7ca6ff",
   "metadata": {},
   "outputs": [
    {
     "data": {
      "text/html": [
       "<div>\n",
       "<style scoped>\n",
       "    .dataframe tbody tr th:only-of-type {\n",
       "        vertical-align: middle;\n",
       "    }\n",
       "\n",
       "    .dataframe tbody tr th {\n",
       "        vertical-align: top;\n",
       "    }\n",
       "\n",
       "    .dataframe thead th {\n",
       "        text-align: right;\n",
       "    }\n",
       "</style>\n",
       "<table border=\"1\" class=\"dataframe\">\n",
       "  <thead>\n",
       "    <tr style=\"text-align: right;\">\n",
       "      <th></th>\n",
       "      <th>Metric</th>\n",
       "      <th>Result</th>\n",
       "    </tr>\n",
       "  </thead>\n",
       "  <tbody>\n",
       "    <tr>\n",
       "      <th>0</th>\n",
       "      <td>Disparate impact</td>\n",
       "      <td>1.0</td>\n",
       "    </tr>\n",
       "    <tr>\n",
       "      <th>1</th>\n",
       "      <td>Mean difference</td>\n",
       "      <td>0.0</td>\n",
       "    </tr>\n",
       "  </tbody>\n",
       "</table>\n",
       "</div>"
      ],
      "text/plain": [
       "             Metric  Result\n",
       "0  Disparate impact     1.0\n",
       "1   Mean difference     0.0"
      ]
     },
     "execution_count": 318,
     "metadata": {},
     "output_type": "execute_result"
    }
   ],
   "source": [
    "# Split with 1 ratio so it doesn't spit data at all (in step 3 instructions, the analysis should be conducted on the entire dataset)\n",
    "dataset_orig_train, dataset_orig_vt = binaryLabelDataset.split([1], shuffle=True)\n",
    "RW = Reweighing(unprivileged_groups=[{'gender_priv': 0}],\n",
    "               privileged_groups=[{'gender_priv': 1}])\n",
    "RW.fit(dataset_orig_train)\n",
    "dataset_transf_train = RW.transform(dataset_orig_train)\n",
    "\n",
    "metric = BinaryLabelDatasetMetric(dataset_transf_train,unprivileged_groups=[{'gender_priv': 0}],privileged_groups=[{'gender_priv': 1}])\n",
    "\n",
    "dict = {\n",
    "    'Metric': ['Disparate impact', 'Mean difference'],\n",
    "    'Result': [metric.disparate_impact(), metric.mean_difference()]\n",
    "}\n",
    "\n",
    "gender_cannabis_rw = dict\n",
    "\n",
    "pd.DataFrame(dict)"
   ]
  },
  {
   "cell_type": "code",
   "execution_count": 319,
   "id": "fff8b86c",
   "metadata": {},
   "outputs": [
    {
     "data": {
      "text/html": [
       "<div>\n",
       "<style scoped>\n",
       "    .dataframe tbody tr th:only-of-type {\n",
       "        vertical-align: middle;\n",
       "    }\n",
       "\n",
       "    .dataframe tbody tr th {\n",
       "        vertical-align: top;\n",
       "    }\n",
       "\n",
       "    .dataframe thead th {\n",
       "        text-align: right;\n",
       "    }\n",
       "</style>\n",
       "<table border=\"1\" class=\"dataframe\">\n",
       "  <thead>\n",
       "    <tr style=\"text-align: right;\">\n",
       "      <th></th>\n",
       "      <th>Metric</th>\n",
       "      <th>Result</th>\n",
       "    </tr>\n",
       "  </thead>\n",
       "  <tbody>\n",
       "    <tr>\n",
       "      <th>0</th>\n",
       "      <td>Disparate impact</td>\n",
       "      <td>2.526726</td>\n",
       "    </tr>\n",
       "    <tr>\n",
       "      <th>1</th>\n",
       "      <td>Mean difference</td>\n",
       "      <td>0.189424</td>\n",
       "    </tr>\n",
       "  </tbody>\n",
       "</table>\n",
       "</div>"
      ],
      "text/plain": [
       "             Metric    Result\n",
       "0  Disparate impact  2.526726\n",
       "1   Mean difference  0.189424"
      ]
     },
     "execution_count": 319,
     "metadata": {},
     "output_type": "execute_result"
    }
   ],
   "source": [
    "# Split with 1 ratio so it doesn't spit data at all (in step 3 instructions, the analysis should be conducted on the entire dataset)\n",
    "dataset_orig_train, dataset_orig_vt = binaryLabelDataset.split([1], shuffle=True)\n",
    "DIR = DisparateImpactRemover(repair_level=1,sensitive_attribute='gender_priv')\n",
    "dataset_transf_train = DIR.fit_transform(dataset_orig_train)\n",
    "\n",
    "metric = BinaryLabelDatasetMetric(dataset_transf_train,unprivileged_groups=[{'gender_priv': 0}],privileged_groups=[{'gender_priv': 1}])\n",
    "\n",
    "dict = {\n",
    "    'Metric': ['Disparate impact', 'Mean difference'],\n",
    "    'Result': [metric.disparate_impact(), metric.mean_difference()]\n",
    "}\n",
    "\n",
    "gender_cannabis_dir = dict\n",
    "\n",
    "pd.DataFrame(dict)"
   ]
  },
  {
   "cell_type": "code",
   "execution_count": 320,
   "id": "6e1b4d12",
   "metadata": {},
   "outputs": [
    {
     "name": "stdout",
     "output_type": "stream",
     "text": [
      "Country fairness calculations with heroin use\n"
     ]
    },
    {
     "data": {
      "text/html": [
       "<div>\n",
       "<style scoped>\n",
       "    .dataframe tbody tr th:only-of-type {\n",
       "        vertical-align: middle;\n",
       "    }\n",
       "\n",
       "    .dataframe tbody tr th {\n",
       "        vertical-align: top;\n",
       "    }\n",
       "\n",
       "    .dataframe thead th {\n",
       "        text-align: right;\n",
       "    }\n",
       "</style>\n",
       "<table border=\"1\" class=\"dataframe\">\n",
       "  <thead>\n",
       "    <tr style=\"text-align: right;\">\n",
       "      <th></th>\n",
       "      <th>Metric</th>\n",
       "      <th>Result</th>\n",
       "    </tr>\n",
       "  </thead>\n",
       "  <tbody>\n",
       "    <tr>\n",
       "      <th>0</th>\n",
       "      <td>Disparate impact</td>\n",
       "      <td>1.005706</td>\n",
       "    </tr>\n",
       "    <tr>\n",
       "      <th>1</th>\n",
       "      <td>Mean difference</td>\n",
       "      <td>0.004856</td>\n",
       "    </tr>\n",
       "  </tbody>\n",
       "</table>\n",
       "</div>"
      ],
      "text/plain": [
       "             Metric    Result\n",
       "0  Disparate impact  1.005706\n",
       "1   Mean difference  0.004856"
      ]
     },
     "execution_count": 320,
     "metadata": {},
     "output_type": "execute_result"
    }
   ],
   "source": [
    "print('Country fairness calculations with heroin use')\n",
    "df_country_priv = df.drop(['age_label', 'gender_label','country_label', 'ethnicity_label', 'heroin_label', 'cannabis_label', \n",
    "                      'alcohol', 'amphet', 'amyl', 'benzos', 'caff', 'cannabis', 'choc','coke','crack','ecstasy','heroin','ketamine','legalh','lsd','meth','mushrooms','nicotine','semer','vsa'\n",
    "                      ], axis=1)\n",
    "binaryLabelDataset = aif360.datasets.BinaryLabelDataset(\n",
    "    favorable_label=0,\n",
    "    unfavorable_label=1,\n",
    "    df=df_country_priv,\n",
    "    label_names=['heroin_user'],\n",
    "    protected_attribute_names=['country_priv']\n",
    ")\n",
    "metric = BinaryLabelDatasetMetric(binaryLabelDataset,unprivileged_groups=[{'country_priv': 0}],privileged_groups=[{'country_priv': 1}])\n",
    "\n",
    "dict = {\n",
    "    'Metric': ['Disparate impact', 'Mean difference'],\n",
    "    'Result': [metric.disparate_impact(), metric.mean_difference()]\n",
    "}\n",
    "\n",
    "country_heroin_og = dict\n",
    "\n",
    "pd.DataFrame(dict)"
   ]
  },
  {
   "cell_type": "code",
   "execution_count": 321,
   "id": "a13e184e",
   "metadata": {},
   "outputs": [
    {
     "data": {
      "text/html": [
       "<div>\n",
       "<style scoped>\n",
       "    .dataframe tbody tr th:only-of-type {\n",
       "        vertical-align: middle;\n",
       "    }\n",
       "\n",
       "    .dataframe tbody tr th {\n",
       "        vertical-align: top;\n",
       "    }\n",
       "\n",
       "    .dataframe thead th {\n",
       "        text-align: right;\n",
       "    }\n",
       "</style>\n",
       "<table border=\"1\" class=\"dataframe\">\n",
       "  <thead>\n",
       "    <tr style=\"text-align: right;\">\n",
       "      <th></th>\n",
       "      <th>Metric</th>\n",
       "      <th>Result</th>\n",
       "    </tr>\n",
       "  </thead>\n",
       "  <tbody>\n",
       "    <tr>\n",
       "      <th>0</th>\n",
       "      <td>Disparate impact</td>\n",
       "      <td>1.000000e+00</td>\n",
       "    </tr>\n",
       "    <tr>\n",
       "      <th>1</th>\n",
       "      <td>Mean difference</td>\n",
       "      <td>1.110223e-16</td>\n",
       "    </tr>\n",
       "  </tbody>\n",
       "</table>\n",
       "</div>"
      ],
      "text/plain": [
       "             Metric        Result\n",
       "0  Disparate impact  1.000000e+00\n",
       "1   Mean difference  1.110223e-16"
      ]
     },
     "execution_count": 321,
     "metadata": {},
     "output_type": "execute_result"
    }
   ],
   "source": [
    "# Split with 1 ratio so it doesn't spit data at all (in step 3 instructions, the analysis should be conducted on the entire dataset)\n",
    "dataset_orig_train, dataset_orig_vt = binaryLabelDataset.split([1], shuffle=True)\n",
    "RW = Reweighing(unprivileged_groups=[{'country_priv': 0}],\n",
    "               privileged_groups=[{'country_priv': 1}])\n",
    "RW.fit(dataset_orig_train)\n",
    "dataset_transf_train = RW.transform(dataset_orig_train)\n",
    "\n",
    "metric = BinaryLabelDatasetMetric(dataset_transf_train,unprivileged_groups=[{'country_priv': 0}],privileged_groups=[{'country_priv': 1}])\n",
    "\n",
    "dict = {\n",
    "    'Metric': ['Disparate impact', 'Mean difference'],\n",
    "    'Result': [metric.disparate_impact(), metric.mean_difference()]\n",
    "}\n",
    "\n",
    "country_heroin_rw = dict\n",
    "\n",
    "pd.DataFrame(dict)"
   ]
  },
  {
   "cell_type": "code",
   "execution_count": 322,
   "id": "360c19e5",
   "metadata": {},
   "outputs": [
    {
     "data": {
      "text/html": [
       "<div>\n",
       "<style scoped>\n",
       "    .dataframe tbody tr th:only-of-type {\n",
       "        vertical-align: middle;\n",
       "    }\n",
       "\n",
       "    .dataframe tbody tr th {\n",
       "        vertical-align: top;\n",
       "    }\n",
       "\n",
       "    .dataframe thead th {\n",
       "        text-align: right;\n",
       "    }\n",
       "</style>\n",
       "<table border=\"1\" class=\"dataframe\">\n",
       "  <thead>\n",
       "    <tr style=\"text-align: right;\">\n",
       "      <th></th>\n",
       "      <th>Metric</th>\n",
       "      <th>Result</th>\n",
       "    </tr>\n",
       "  </thead>\n",
       "  <tbody>\n",
       "    <tr>\n",
       "      <th>0</th>\n",
       "      <td>Disparate impact</td>\n",
       "      <td>1.005706</td>\n",
       "    </tr>\n",
       "    <tr>\n",
       "      <th>1</th>\n",
       "      <td>Mean difference</td>\n",
       "      <td>0.004856</td>\n",
       "    </tr>\n",
       "  </tbody>\n",
       "</table>\n",
       "</div>"
      ],
      "text/plain": [
       "             Metric    Result\n",
       "0  Disparate impact  1.005706\n",
       "1   Mean difference  0.004856"
      ]
     },
     "execution_count": 322,
     "metadata": {},
     "output_type": "execute_result"
    }
   ],
   "source": [
    "# Split with 1 ratio so it doesn't spit data at all (in step 3 instructions, the analysis should be conducted on the entire dataset)\n",
    "dataset_orig_train, dataset_orig_vt = binaryLabelDataset.split([1], shuffle=True)\n",
    "DIR = DisparateImpactRemover(repair_level=1,sensitive_attribute='country_priv')\n",
    "dataset_transf_train = DIR.fit_transform(dataset_orig_train)\n",
    "\n",
    "metric = BinaryLabelDatasetMetric(dataset_transf_train,unprivileged_groups=[{'country_priv': 0}],privileged_groups=[{'country_priv': 1}])\n",
    "\n",
    "dict = {\n",
    "    'Metric': ['Disparate impact', 'Mean difference'],\n",
    "    'Result': [metric.disparate_impact(), metric.mean_difference()]\n",
    "}\n",
    "\n",
    "country_heroin_dir = dict\n",
    "\n",
    "pd.DataFrame(dict)"
   ]
  },
  {
   "cell_type": "code",
   "execution_count": 323,
   "id": "3dca6166",
   "metadata": {},
   "outputs": [
    {
     "name": "stdout",
     "output_type": "stream",
     "text": [
      "Country fairness calculations with cannabis use\n"
     ]
    },
    {
     "data": {
      "text/html": [
       "<div>\n",
       "<style scoped>\n",
       "    .dataframe tbody tr th:only-of-type {\n",
       "        vertical-align: middle;\n",
       "    }\n",
       "\n",
       "    .dataframe tbody tr th {\n",
       "        vertical-align: top;\n",
       "    }\n",
       "\n",
       "    .dataframe thead th {\n",
       "        text-align: right;\n",
       "    }\n",
       "</style>\n",
       "<table border=\"1\" class=\"dataframe\">\n",
       "  <thead>\n",
       "    <tr style=\"text-align: right;\">\n",
       "      <th></th>\n",
       "      <th>Metric</th>\n",
       "      <th>Result</th>\n",
       "    </tr>\n",
       "  </thead>\n",
       "  <tbody>\n",
       "    <tr>\n",
       "      <th>0</th>\n",
       "      <td>Disparate impact</td>\n",
       "      <td>0.448983</td>\n",
       "    </tr>\n",
       "    <tr>\n",
       "      <th>1</th>\n",
       "      <td>Mean difference</td>\n",
       "      <td>-0.124806</td>\n",
       "    </tr>\n",
       "  </tbody>\n",
       "</table>\n",
       "</div>"
      ],
      "text/plain": [
       "             Metric    Result\n",
       "0  Disparate impact  0.448983\n",
       "1   Mean difference -0.124806"
      ]
     },
     "execution_count": 323,
     "metadata": {},
     "output_type": "execute_result"
    }
   ],
   "source": [
    "print('Country fairness calculations with cannabis use')\n",
    "df_country_priv = df.drop(['age_label', 'gender_label','country_label', 'ethnicity_label', 'heroin_label', 'cannabis_label', \n",
    "                      'alcohol', 'amphet', 'amyl', 'benzos', 'caff', 'cannabis', 'choc','coke','crack','ecstasy','heroin','ketamine','legalh','lsd','meth','mushrooms','nicotine','semer','vsa'\n",
    "                      ], axis=1)\n",
    "binaryLabelDataset = aif360.datasets.BinaryLabelDataset(\n",
    "    favorable_label=0,\n",
    "    unfavorable_label=1,\n",
    "    df=df_country_priv,\n",
    "    label_names=['cannabis_user'],\n",
    "    protected_attribute_names=['country_priv']\n",
    ")\n",
    "metric = BinaryLabelDatasetMetric(binaryLabelDataset,unprivileged_groups=[{'country_priv': 0}],privileged_groups=[{'country_priv': 1}])\n",
    "\n",
    "dict = {\n",
    "    'Metric': ['Disparate impact', 'Mean difference'],\n",
    "    'Result': [metric.disparate_impact(), metric.mean_difference()]\n",
    "}\n",
    "\n",
    "country_cannabis_og = dict\n",
    "\n",
    "pd.DataFrame(dict)"
   ]
  },
  {
   "cell_type": "code",
   "execution_count": 324,
   "id": "f19509d3",
   "metadata": {},
   "outputs": [
    {
     "data": {
      "text/html": [
       "<div>\n",
       "<style scoped>\n",
       "    .dataframe tbody tr th:only-of-type {\n",
       "        vertical-align: middle;\n",
       "    }\n",
       "\n",
       "    .dataframe tbody tr th {\n",
       "        vertical-align: top;\n",
       "    }\n",
       "\n",
       "    .dataframe thead th {\n",
       "        text-align: right;\n",
       "    }\n",
       "</style>\n",
       "<table border=\"1\" class=\"dataframe\">\n",
       "  <thead>\n",
       "    <tr style=\"text-align: right;\">\n",
       "      <th></th>\n",
       "      <th>Metric</th>\n",
       "      <th>Result</th>\n",
       "    </tr>\n",
       "  </thead>\n",
       "  <tbody>\n",
       "    <tr>\n",
       "      <th>0</th>\n",
       "      <td>Disparate impact</td>\n",
       "      <td>1.000000e+00</td>\n",
       "    </tr>\n",
       "    <tr>\n",
       "      <th>1</th>\n",
       "      <td>Mean difference</td>\n",
       "      <td>8.326673e-17</td>\n",
       "    </tr>\n",
       "  </tbody>\n",
       "</table>\n",
       "</div>"
      ],
      "text/plain": [
       "             Metric        Result\n",
       "0  Disparate impact  1.000000e+00\n",
       "1   Mean difference  8.326673e-17"
      ]
     },
     "execution_count": 324,
     "metadata": {},
     "output_type": "execute_result"
    }
   ],
   "source": [
    "# Split with 1 ratio so it doesn't spit data at all (in step 3 instructions, the analysis should be conducted on the entire dataset)\n",
    "dataset_orig_train, dataset_orig_vt = binaryLabelDataset.split([1], shuffle=True)\n",
    "RW = Reweighing(unprivileged_groups=[{'country_priv': 0}],\n",
    "               privileged_groups=[{'country_priv': 1}])\n",
    "RW.fit(dataset_orig_train)\n",
    "dataset_transf_train = RW.transform(dataset_orig_train)\n",
    "\n",
    "metric = BinaryLabelDatasetMetric(dataset_transf_train,unprivileged_groups=[{'country_priv': 0}],privileged_groups=[{'country_priv': 1}])\n",
    "\n",
    "dict = {\n",
    "    'Metric': ['Disparate impact', 'Mean difference'],\n",
    "    'Result': [metric.disparate_impact(), metric.mean_difference()]\n",
    "}\n",
    "\n",
    "country_cannabis_rw = dict\n",
    "\n",
    "\n",
    "pd.DataFrame(dict)"
   ]
  },
  {
   "cell_type": "code",
   "execution_count": 325,
   "id": "2fa49019",
   "metadata": {},
   "outputs": [
    {
     "data": {
      "text/html": [
       "<div>\n",
       "<style scoped>\n",
       "    .dataframe tbody tr th:only-of-type {\n",
       "        vertical-align: middle;\n",
       "    }\n",
       "\n",
       "    .dataframe tbody tr th {\n",
       "        vertical-align: top;\n",
       "    }\n",
       "\n",
       "    .dataframe thead th {\n",
       "        text-align: right;\n",
       "    }\n",
       "</style>\n",
       "<table border=\"1\" class=\"dataframe\">\n",
       "  <thead>\n",
       "    <tr style=\"text-align: right;\">\n",
       "      <th></th>\n",
       "      <th>Metric</th>\n",
       "      <th>Result</th>\n",
       "    </tr>\n",
       "  </thead>\n",
       "  <tbody>\n",
       "    <tr>\n",
       "      <th>0</th>\n",
       "      <td>Disparate impact</td>\n",
       "      <td>0.448983</td>\n",
       "    </tr>\n",
       "    <tr>\n",
       "      <th>1</th>\n",
       "      <td>Mean difference</td>\n",
       "      <td>-0.124806</td>\n",
       "    </tr>\n",
       "  </tbody>\n",
       "</table>\n",
       "</div>"
      ],
      "text/plain": [
       "             Metric    Result\n",
       "0  Disparate impact  0.448983\n",
       "1   Mean difference -0.124806"
      ]
     },
     "execution_count": 325,
     "metadata": {},
     "output_type": "execute_result"
    }
   ],
   "source": [
    "# Split with 1 ratio so it doesn't spit data at all (in step 3 instructions, the analysis should be conducted on the entire dataset)\n",
    "dataset_orig_train, dataset_orig_vt = binaryLabelDataset.split([1], shuffle=True)\n",
    "DIR = DisparateImpactRemover(repair_level=1,sensitive_attribute='country_priv')\n",
    "dataset_transf_train = DIR.fit_transform(dataset_orig_train)\n",
    "\n",
    "metric = BinaryLabelDatasetMetric(dataset_transf_train,unprivileged_groups=[{'country_priv': 0}],privileged_groups=[{'country_priv': 1}])\n",
    "\n",
    "dict = {\n",
    "    'Metric': ['Disparate impact', 'Mean difference'],\n",
    "    'Result': [metric.disparate_impact(), metric.mean_difference()]\n",
    "}\n",
    "\n",
    "country_cannabis_dir = dict\n",
    "\n",
    "pd.DataFrame(dict)"
   ]
  },
  {
   "cell_type": "code",
   "execution_count": 326,
   "id": "3c902fe4",
   "metadata": {},
   "outputs": [
    {
     "name": "stdout",
     "output_type": "stream",
     "text": [
      "Ethnicity fairness calculations with heroin use\n"
     ]
    },
    {
     "data": {
      "text/html": [
       "<div>\n",
       "<style scoped>\n",
       "    .dataframe tbody tr th:only-of-type {\n",
       "        vertical-align: middle;\n",
       "    }\n",
       "\n",
       "    .dataframe tbody tr th {\n",
       "        vertical-align: top;\n",
       "    }\n",
       "\n",
       "    .dataframe thead th {\n",
       "        text-align: right;\n",
       "    }\n",
       "</style>\n",
       "<table border=\"1\" class=\"dataframe\">\n",
       "  <thead>\n",
       "    <tr style=\"text-align: right;\">\n",
       "      <th></th>\n",
       "      <th>Metric</th>\n",
       "      <th>Result</th>\n",
       "    </tr>\n",
       "  </thead>\n",
       "  <tbody>\n",
       "    <tr>\n",
       "      <th>0</th>\n",
       "      <td>Disparate impact</td>\n",
       "      <td>0.995089</td>\n",
       "    </tr>\n",
       "    <tr>\n",
       "      <th>1</th>\n",
       "      <td>Mean difference</td>\n",
       "      <td>-0.004183</td>\n",
       "    </tr>\n",
       "  </tbody>\n",
       "</table>\n",
       "</div>"
      ],
      "text/plain": [
       "             Metric    Result\n",
       "0  Disparate impact  0.995089\n",
       "1   Mean difference -0.004183"
      ]
     },
     "execution_count": 326,
     "metadata": {},
     "output_type": "execute_result"
    }
   ],
   "source": [
    "print('Ethnicity fairness calculations with heroin use')\n",
    "df_ethnicity_priv = df.drop(['age_label', 'gender_label','country_label', 'ethnicity_label', 'heroin_label', 'cannabis_label', \n",
    "                      'alcohol', 'amphet', 'amyl', 'benzos', 'caff', 'cannabis', 'choc','coke','crack','ecstasy','heroin','ketamine','legalh','lsd','meth','mushrooms','nicotine','semer','vsa'\n",
    "                      ], axis=1)\n",
    "binaryLabelDataset = aif360.datasets.BinaryLabelDataset(\n",
    "    favorable_label=0,\n",
    "    unfavorable_label=1,\n",
    "    df=df_ethnicity_priv,\n",
    "    label_names=['heroin_user'],\n",
    "    protected_attribute_names=['ethnicity_priv']\n",
    ")\n",
    "metric = BinaryLabelDatasetMetric(binaryLabelDataset,unprivileged_groups=[{'ethnicity_priv': 0}],privileged_groups=[{'ethnicity_priv': 1}])\n",
    "\n",
    "dict = {\n",
    "    'Metric': ['Disparate impact', 'Mean difference'],\n",
    "    'Result': [metric.disparate_impact(), metric.mean_difference()]\n",
    "}\n",
    "\n",
    "ethnicity_heroin_og = dict\n",
    "\n",
    "pd.DataFrame(dict)"
   ]
  },
  {
   "cell_type": "code",
   "execution_count": 327,
   "id": "6ec4f8e0",
   "metadata": {},
   "outputs": [
    {
     "data": {
      "text/html": [
       "<div>\n",
       "<style scoped>\n",
       "    .dataframe tbody tr th:only-of-type {\n",
       "        vertical-align: middle;\n",
       "    }\n",
       "\n",
       "    .dataframe tbody tr th {\n",
       "        vertical-align: top;\n",
       "    }\n",
       "\n",
       "    .dataframe thead th {\n",
       "        text-align: right;\n",
       "    }\n",
       "</style>\n",
       "<table border=\"1\" class=\"dataframe\">\n",
       "  <thead>\n",
       "    <tr style=\"text-align: right;\">\n",
       "      <th></th>\n",
       "      <th>Metric</th>\n",
       "      <th>Result</th>\n",
       "    </tr>\n",
       "  </thead>\n",
       "  <tbody>\n",
       "    <tr>\n",
       "      <th>0</th>\n",
       "      <td>Disparate impact</td>\n",
       "      <td>1.0</td>\n",
       "    </tr>\n",
       "    <tr>\n",
       "      <th>1</th>\n",
       "      <td>Mean difference</td>\n",
       "      <td>0.0</td>\n",
       "    </tr>\n",
       "  </tbody>\n",
       "</table>\n",
       "</div>"
      ],
      "text/plain": [
       "             Metric  Result\n",
       "0  Disparate impact     1.0\n",
       "1   Mean difference     0.0"
      ]
     },
     "execution_count": 327,
     "metadata": {},
     "output_type": "execute_result"
    }
   ],
   "source": [
    "# Split with 1 ratio so it doesn't spit data at all (in step 3 instructions, the analysis should be conducted on the entire dataset)\n",
    "dataset_orig_train, dataset_orig_vt = binaryLabelDataset.split([1], shuffle=True)\n",
    "RW = Reweighing(unprivileged_groups=[{'ethnicity_priv': 0}],\n",
    "               privileged_groups=[{'ethnicity_priv': 1}])\n",
    "RW.fit(dataset_orig_train)\n",
    "dataset_transf_train = RW.transform(dataset_orig_train)\n",
    "\n",
    "metric = BinaryLabelDatasetMetric(dataset_transf_train,unprivileged_groups=[{'ethnicity_priv': 0}],privileged_groups=[{'ethnicity_priv': 1}])\n",
    "\n",
    "dict = {\n",
    "    'Metric': ['Disparate impact', 'Mean difference'],\n",
    "    'Result': [metric.disparate_impact(), metric.mean_difference()]\n",
    "}\n",
    "\n",
    "ethnicity_heroin_rw = dict\n",
    "\n",
    "pd.DataFrame(dict)"
   ]
  },
  {
   "cell_type": "code",
   "execution_count": 328,
   "id": "ebbe0689",
   "metadata": {},
   "outputs": [
    {
     "data": {
      "text/html": [
       "<div>\n",
       "<style scoped>\n",
       "    .dataframe tbody tr th:only-of-type {\n",
       "        vertical-align: middle;\n",
       "    }\n",
       "\n",
       "    .dataframe tbody tr th {\n",
       "        vertical-align: top;\n",
       "    }\n",
       "\n",
       "    .dataframe thead th {\n",
       "        text-align: right;\n",
       "    }\n",
       "</style>\n",
       "<table border=\"1\" class=\"dataframe\">\n",
       "  <thead>\n",
       "    <tr style=\"text-align: right;\">\n",
       "      <th></th>\n",
       "      <th>Metric</th>\n",
       "      <th>Result</th>\n",
       "    </tr>\n",
       "  </thead>\n",
       "  <tbody>\n",
       "    <tr>\n",
       "      <th>0</th>\n",
       "      <td>Disparate impact</td>\n",
       "      <td>0.995089</td>\n",
       "    </tr>\n",
       "    <tr>\n",
       "      <th>1</th>\n",
       "      <td>Mean difference</td>\n",
       "      <td>-0.004183</td>\n",
       "    </tr>\n",
       "  </tbody>\n",
       "</table>\n",
       "</div>"
      ],
      "text/plain": [
       "             Metric    Result\n",
       "0  Disparate impact  0.995089\n",
       "1   Mean difference -0.004183"
      ]
     },
     "execution_count": 328,
     "metadata": {},
     "output_type": "execute_result"
    }
   ],
   "source": [
    "# Split with 1 ratio so it doesn't spit data at all (in step 3 instructions, the analysis should be conducted on the entire dataset)\n",
    "dataset_orig_train, dataset_orig_vt = binaryLabelDataset.split([1], shuffle=True)\n",
    "DIR = DisparateImpactRemover(repair_level=1,sensitive_attribute='ethnicity_priv')\n",
    "dataset_transf_train = DIR.fit_transform(dataset_orig_train)\n",
    "\n",
    "metric = BinaryLabelDatasetMetric(dataset_transf_train,unprivileged_groups=[{'ethnicity_priv': 0}],privileged_groups=[{'ethnicity_priv': 1}])\n",
    "\n",
    "dict = {\n",
    "    'Metric': ['Disparate impact', 'Mean difference'],\n",
    "    'Result': [metric.disparate_impact(), metric.mean_difference()]\n",
    "}\n",
    "\n",
    "ethnicity_heroin_dir = dict\n",
    "\n",
    "pd.DataFrame(dict)"
   ]
  },
  {
   "cell_type": "code",
   "execution_count": 329,
   "id": "d53c1347",
   "metadata": {},
   "outputs": [
    {
     "name": "stdout",
     "output_type": "stream",
     "text": [
      "Ethnicity fairness calculations with cannabis use\n"
     ]
    },
    {
     "data": {
      "text/html": [
       "<div>\n",
       "<style scoped>\n",
       "    .dataframe tbody tr th:only-of-type {\n",
       "        vertical-align: middle;\n",
       "    }\n",
       "\n",
       "    .dataframe tbody tr th {\n",
       "        vertical-align: top;\n",
       "    }\n",
       "\n",
       "    .dataframe thead th {\n",
       "        text-align: right;\n",
       "    }\n",
       "</style>\n",
       "<table border=\"1\" class=\"dataframe\">\n",
       "  <thead>\n",
       "    <tr style=\"text-align: right;\">\n",
       "      <th></th>\n",
       "      <th>Metric</th>\n",
       "      <th>Result</th>\n",
       "    </tr>\n",
       "  </thead>\n",
       "  <tbody>\n",
       "    <tr>\n",
       "      <th>0</th>\n",
       "      <td>Disparate impact</td>\n",
       "      <td>1.683957</td>\n",
       "    </tr>\n",
       "    <tr>\n",
       "      <th>1</th>\n",
       "      <td>Mean difference</td>\n",
       "      <td>0.141166</td>\n",
       "    </tr>\n",
       "  </tbody>\n",
       "</table>\n",
       "</div>"
      ],
      "text/plain": [
       "             Metric    Result\n",
       "0  Disparate impact  1.683957\n",
       "1   Mean difference  0.141166"
      ]
     },
     "execution_count": 329,
     "metadata": {},
     "output_type": "execute_result"
    }
   ],
   "source": [
    "print('Ethnicity fairness calculations with cannabis use')\n",
    "df_ethnicity_priv = df.drop(['age_label', 'gender_label','country_label', 'ethnicity_label', 'heroin_label', 'cannabis_label', \n",
    "                      'alcohol', 'amphet', 'amyl', 'benzos', 'caff', 'cannabis', 'choc','coke','crack','ecstasy','heroin','ketamine','legalh','lsd','meth','mushrooms','nicotine','semer','vsa'\n",
    "                      ], axis=1)\n",
    "binaryLabelDataset = aif360.datasets.BinaryLabelDataset(\n",
    "    favorable_label=0,\n",
    "    unfavorable_label=1,\n",
    "    df=df_ethnicity_priv,\n",
    "    label_names=['cannabis_user'],\n",
    "    protected_attribute_names=['ethnicity_priv']\n",
    ")\n",
    "metric = BinaryLabelDatasetMetric(binaryLabelDataset,unprivileged_groups=[{'ethnicity_priv': 0}],privileged_groups=[{'ethnicity_priv': 1}])\n",
    "\n",
    "dict = {\n",
    "    'Metric': ['Disparate impact', 'Mean difference'],\n",
    "    'Result': [metric.disparate_impact(), metric.mean_difference()]\n",
    "}\n",
    "\n",
    "ethnicity_cannabis_og = dict\n",
    "\n",
    "pd.DataFrame(dict)"
   ]
  },
  {
   "cell_type": "code",
   "execution_count": 330,
   "id": "90f55242",
   "metadata": {},
   "outputs": [
    {
     "data": {
      "text/html": [
       "<div>\n",
       "<style scoped>\n",
       "    .dataframe tbody tr th:only-of-type {\n",
       "        vertical-align: middle;\n",
       "    }\n",
       "\n",
       "    .dataframe tbody tr th {\n",
       "        vertical-align: top;\n",
       "    }\n",
       "\n",
       "    .dataframe thead th {\n",
       "        text-align: right;\n",
       "    }\n",
       "</style>\n",
       "<table border=\"1\" class=\"dataframe\">\n",
       "  <thead>\n",
       "    <tr style=\"text-align: right;\">\n",
       "      <th></th>\n",
       "      <th>Metric</th>\n",
       "      <th>Result</th>\n",
       "    </tr>\n",
       "  </thead>\n",
       "  <tbody>\n",
       "    <tr>\n",
       "      <th>0</th>\n",
       "      <td>Disparate impact</td>\n",
       "      <td>1.000000e+00</td>\n",
       "    </tr>\n",
       "    <tr>\n",
       "      <th>1</th>\n",
       "      <td>Mean difference</td>\n",
       "      <td>8.326673e-17</td>\n",
       "    </tr>\n",
       "  </tbody>\n",
       "</table>\n",
       "</div>"
      ],
      "text/plain": [
       "             Metric        Result\n",
       "0  Disparate impact  1.000000e+00\n",
       "1   Mean difference  8.326673e-17"
      ]
     },
     "execution_count": 330,
     "metadata": {},
     "output_type": "execute_result"
    }
   ],
   "source": [
    "# Split with 1 ratio so it doesn't spit data at all (in step 3 instructions, the analysis should be conducted on the entire dataset)\n",
    "dataset_orig_train, dataset_orig_vt = binaryLabelDataset.split([1], shuffle=True)\n",
    "RW = Reweighing(unprivileged_groups=[{'ethnicity_priv': 0}],\n",
    "               privileged_groups=[{'ethnicity_priv': 1}])\n",
    "RW.fit(dataset_orig_train)\n",
    "dataset_transf_train = RW.transform(dataset_orig_train)\n",
    "\n",
    "metric = BinaryLabelDatasetMetric(dataset_transf_train,unprivileged_groups=[{'ethnicity_priv': 0}],privileged_groups=[{'ethnicity_priv': 1}])\n",
    "\n",
    "dict = {\n",
    "    'Metric': ['Disparate impact', 'Mean difference'],\n",
    "    'Result': [metric.disparate_impact(), metric.mean_difference()]\n",
    "}\n",
    "\n",
    "ethnicity_cannabis_rw = dict\n",
    "\n",
    "pd.DataFrame(dict)"
   ]
  },
  {
   "cell_type": "code",
   "execution_count": 331,
   "id": "92a9c56a",
   "metadata": {},
   "outputs": [
    {
     "data": {
      "text/html": [
       "<div>\n",
       "<style scoped>\n",
       "    .dataframe tbody tr th:only-of-type {\n",
       "        vertical-align: middle;\n",
       "    }\n",
       "\n",
       "    .dataframe tbody tr th {\n",
       "        vertical-align: top;\n",
       "    }\n",
       "\n",
       "    .dataframe thead th {\n",
       "        text-align: right;\n",
       "    }\n",
       "</style>\n",
       "<table border=\"1\" class=\"dataframe\">\n",
       "  <thead>\n",
       "    <tr style=\"text-align: right;\">\n",
       "      <th></th>\n",
       "      <th>Metric</th>\n",
       "      <th>Result</th>\n",
       "    </tr>\n",
       "  </thead>\n",
       "  <tbody>\n",
       "    <tr>\n",
       "      <th>0</th>\n",
       "      <td>Disparate impact</td>\n",
       "      <td>1.683957</td>\n",
       "    </tr>\n",
       "    <tr>\n",
       "      <th>1</th>\n",
       "      <td>Mean difference</td>\n",
       "      <td>0.141166</td>\n",
       "    </tr>\n",
       "  </tbody>\n",
       "</table>\n",
       "</div>"
      ],
      "text/plain": [
       "             Metric    Result\n",
       "0  Disparate impact  1.683957\n",
       "1   Mean difference  0.141166"
      ]
     },
     "execution_count": 331,
     "metadata": {},
     "output_type": "execute_result"
    }
   ],
   "source": [
    "# Split with 1 ratio so it doesn't spit data at all (in step 3 instructions, the analysis should be conducted on the entire dataset)\n",
    "dataset_orig_train, dataset_orig_vt = binaryLabelDataset.split([1], shuffle=True)\n",
    "DIR = DisparateImpactRemover(repair_level=1,sensitive_attribute='ethnicity_priv')\n",
    "dataset_transf_train = DIR.fit_transform(dataset_orig_train)\n",
    "\n",
    "metric = BinaryLabelDatasetMetric(dataset_transf_train,unprivileged_groups=[{'ethnicity_priv': 0}],privileged_groups=[{'ethnicity_priv': 1}])\n",
    "\n",
    "dict = {\n",
    "    'Metric': ['Disparate impact', 'Mean difference'],\n",
    "    'Result': [metric.disparate_impact(), metric.mean_difference()]\n",
    "}\n",
    "\n",
    "ethnicity_cannabis_dir = dict\n",
    "\n",
    "pd.DataFrame(dict)"
   ]
  },
  {
   "attachments": {
    "Screen%20Shot%202022-04-03%20at%206.26.37%20PM.png": {
     "image/png": "[encoded data removed]"
    }
   },
   "cell_type": "markdown",
   "id": "932c48ae",
   "metadata": {},
   "source": [
    "# Tabular summary of step 3\n",
    "![Screen%20Shot%202022-04-03%20at%206.26.37%20PM.png](attachment:Screen%20Shot%202022-04-03%20at%206.26.37%20PM.png)"
   ]
  },
  {
   "cell_type": "code",
   "execution_count": 332,
   "id": "6b3024e2",
   "metadata": {},
   "outputs": [
    {
     "data": {
      "text/html": [
       "<div>\n",
       "<style scoped>\n",
       "    .dataframe tbody tr th:only-of-type {\n",
       "        vertical-align: middle;\n",
       "    }\n",
       "\n",
       "    .dataframe tbody tr th {\n",
       "        vertical-align: top;\n",
       "    }\n",
       "\n",
       "    .dataframe thead th {\n",
       "        text-align: right;\n",
       "    }\n",
       "</style>\n",
       "<table border=\"1\" class=\"dataframe\">\n",
       "  <thead>\n",
       "    <tr style=\"text-align: right;\">\n",
       "      <th></th>\n",
       "      <th>Metric</th>\n",
       "      <th>Result - Train</th>\n",
       "      <th>Result - Test</th>\n",
       "    </tr>\n",
       "  </thead>\n",
       "  <tbody>\n",
       "    <tr>\n",
       "      <th>0</th>\n",
       "      <td>Disparate impact</td>\n",
       "      <td>1.122652</td>\n",
       "      <td>1.103200</td>\n",
       "    </tr>\n",
       "    <tr>\n",
       "      <th>1</th>\n",
       "      <td>Mean difference</td>\n",
       "      <td>0.098536</td>\n",
       "      <td>0.083439</td>\n",
       "    </tr>\n",
       "  </tbody>\n",
       "</table>\n",
       "</div>"
      ],
      "text/plain": [
       "             Metric  Result - Train  Result - Test\n",
       "0  Disparate impact        1.122652       1.103200\n",
       "1   Mean difference        0.098536       0.083439"
      ]
     },
     "execution_count": 332,
     "metadata": {},
     "output_type": "execute_result"
    }
   ],
   "source": [
    "# Step 4, Option A - gender is the protected class attribute chosen and the dependent variable is heroin user\n",
    "binaryLabelDataset = aif360.datasets.BinaryLabelDataset(\n",
    "    favorable_label=0,\n",
    "    unfavorable_label=1,\n",
    "    df=df_gender_priv,\n",
    "    label_names=['heroin_user'],\n",
    "    protected_attribute_names=['gender_priv']\n",
    ")\n",
    "\n",
    "dataset_orig_train, dataset_orig_vt = binaryLabelDataset.split([0.5], shuffle=True)\n",
    "\n",
    "metric_train = BinaryLabelDatasetMetric(dataset_orig_train,unprivileged_groups=[{'gender_priv': 0}],privileged_groups=[{'gender_priv': 1}])\n",
    "metric_test = BinaryLabelDatasetMetric(dataset_orig_vt,unprivileged_groups=[{'gender_priv': 0}],privileged_groups=[{'gender_priv': 1}])\n",
    "\n",
    "\n",
    "dict = {\n",
    "    'Metric': ['Disparate impact', 'Mean difference'],\n",
    "    'Result - Train': [metric_train.disparate_impact(), metric_train.mean_difference()],\n",
    "    'Result - Test': [metric_test.disparate_impact(), metric_test.mean_difference()]\n",
    "}\n",
    "\n",
    "gender_heroin_og = dict\n",
    "pd.DataFrame(dict)\n",
    "# pd.DataFrame(dict)\n"
   ]
  },
  {
   "cell_type": "code",
   "execution_count": 334,
   "id": "fa79593f",
   "metadata": {},
   "outputs": [
    {
     "data": {
      "text/html": [
       "<div>\n",
       "<style scoped>\n",
       "    .dataframe tbody tr th:only-of-type {\n",
       "        vertical-align: middle;\n",
       "    }\n",
       "\n",
       "    .dataframe tbody tr th {\n",
       "        vertical-align: top;\n",
       "    }\n",
       "\n",
       "    .dataframe thead th {\n",
       "        text-align: right;\n",
       "    }\n",
       "</style>\n",
       "<table border=\"1\" class=\"dataframe\">\n",
       "  <thead>\n",
       "    <tr style=\"text-align: right;\">\n",
       "      <th></th>\n",
       "      <th>Metric</th>\n",
       "      <th>Result - Train</th>\n",
       "      <th>Result - Test</th>\n",
       "    </tr>\n",
       "  </thead>\n",
       "  <tbody>\n",
       "    <tr>\n",
       "      <th>0</th>\n",
       "      <td>Disparate impact</td>\n",
       "      <td>1.000000e+00</td>\n",
       "      <td>0.992035</td>\n",
       "    </tr>\n",
       "    <tr>\n",
       "      <th>1</th>\n",
       "      <td>Mean difference</td>\n",
       "      <td>-2.220446e-16</td>\n",
       "      <td>-0.006762</td>\n",
       "    </tr>\n",
       "  </tbody>\n",
       "</table>\n",
       "</div>"
      ],
      "text/plain": [
       "             Metric  Result - Train  Result - Test\n",
       "0  Disparate impact    1.000000e+00       0.992035\n",
       "1   Mean difference   -2.220446e-16      -0.006762"
      ]
     },
     "execution_count": 334,
     "metadata": {},
     "output_type": "execute_result"
    }
   ],
   "source": [
    "RW = Reweighing(unprivileged_groups=[{'gender_priv': 0}],\n",
    "               privileged_groups=[{'gender_priv': 1}])\n",
    "RW.fit(dataset_orig_train)\n",
    "dataset_transf_train = RW.transform(dataset_orig_train)\n",
    "\n",
    "dataset_transf_train_og, dataset_transf_vt = dataset_transf_train.split([0.5], shuffle=True)\n",
    "\n",
    "metric_train = BinaryLabelDatasetMetric(dataset_transf_train,unprivileged_groups=[{'gender_priv': 0}],privileged_groups=[{'gender_priv': 1}])\n",
    "metric_test = BinaryLabelDatasetMetric(dataset_transf_vt,unprivileged_groups=[{'gender_priv': 0}],privileged_groups=[{'gender_priv': 1}])\n",
    "\n",
    "dict = {\n",
    "    'Metric': ['Disparate impact', 'Mean difference'],\n",
    "    'Result - Train': [metric_train.disparate_impact(), metric_train.mean_difference()],\n",
    "    'Result - Test': [metric_test.disparate_impact(), metric_test.mean_difference()]\n",
    "}\n",
    "\n",
    "country_cannabis_rw = dict\n",
    "pd.DataFrame(dict)"
   ]
  },
  {
   "attachments": {
    "Screen%20Shot%202022-04-03%20at%207.09.46%20PM.png": {
     "image/png": "[encoded data removed]"
    }
   },
   "cell_type": "markdown",
   "id": "cb485fac",
   "metadata": {},
   "source": [
    "![Screen%20Shot%202022-04-03%20at%207.09.46%20PM.png](attachment:Screen%20Shot%202022-04-03%20at%207.09.46%20PM.png)"
   ]
  },
  {
   "attachments": {
    "Screen%20Shot%202022-04-03%20at%207.15.39%20PM.png": {
     "image/png": "[encoded data removed]"
    }
   },
   "cell_type": "markdown",
   "id": "14806640",
   "metadata": {},
   "source": [
    "![Screen%20Shot%202022-04-03%20at%207.15.39%20PM.png](attachment:Screen%20Shot%202022-04-03%20at%207.15.39%20PM.png)"
   ]
  },
  {
   "cell_type": "code",
   "execution_count": 264,
   "id": "826fba9e",
   "metadata": {},
   "outputs": [
    {
     "name": "stdout",
     "output_type": "stream",
     "text": [
      "I am a team of one\n"
     ]
    }
   ],
   "source": [
    "print('I am a team of one')"
   ]
  },
  {
   "cell_type": "code",
   "execution_count": null,
   "id": "1667d93f",
   "metadata": {},
   "outputs": [],
   "source": []
  }
 ],
 "metadata": {
  "kernelspec": {
   "display_name": "Python 3 (ipykernel)",
   "language": "python",
   "name": "python3"
  },
  "language_info": {
   "codemirror_mode": {
    "name": "ipython",
    "version": 3
   },
   "file_extension": ".py",
   "mimetype": "text/x-python",
   "name": "python",
   "nbconvert_exporter": "python",
   "pygments_lexer": "ipython3",
   "version": "3.9.7"
  }
 },
 "nbformat": 4,
 "nbformat_minor": 5
}
